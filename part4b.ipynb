{
  "nbformat": 4,
  "nbformat_minor": 0,
  "metadata": {
    "colab": {
      "name": "SA_with_FARM.ipynb",
      "provenance": [],
      "collapsed_sections": [],
      "toc_visible": true
    },
    "kernelspec": {
      "name": "python3",
      "display_name": "Python 3"
    },
    "accelerator": "GPU"
  },
  "cells": [
    {
      "cell_type": "markdown",
      "metadata": {
        "id": "tPltDefXjSiJ"
      },
      "source": [
        "# Basic SA with FARM\n",
        "\n",
        "Based on: https://colab.research.google.com/drive/130_7dgVC3VdLBPhiEkGULHmqSlflhmVM  \n",
        "...with a few modifications to make it work for basic sentiment (valence) classification"
      ]
    },
    {
      "cell_type": "markdown",
      "metadata": {
        "id": "MQz1S2d5jfST"
      },
      "source": [
        "### Setup"
      ]
    },
    {
      "cell_type": "code",
      "metadata": {
        "id": "PeIWk6_4jiQ2"
      },
      "source": [
        "# Install FARM\n",
        "!pip install torch==1.8.1+cu101 -f https://download.pytorch.org/whl/torch_stable.html\n",
        "!pip install farm==0.7.1"
      ],
      "execution_count": null,
      "outputs": []
    },
    {
      "cell_type": "code",
      "metadata": {
        "id": "y6RKA1bxkKij"
      },
      "source": [
        "# Here are the imports we need\n",
        "\n",
        "import torch\n",
        "from farm.modeling.tokenization import Tokenizer\n",
        "from farm.data_handler.processor import TextClassificationProcessor\n",
        "from farm.data_handler.data_silo import DataSilo\n",
        "from farm.modeling.language_model import LanguageModel\n",
        "from farm.modeling.prediction_head import TextClassificationHead\n",
        "from farm.modeling.adaptive_model import AdaptiveModel\n",
        "from farm.modeling.optimization import initialize_optimizer\n",
        "from farm.train import Trainer\n",
        "from farm.utils import MLFlowLogger\n"
      ],
      "execution_count": null,
      "outputs": []
    },
    {
      "cell_type": "code",
      "metadata": {
        "id": "XL-on42YOWwC"
      },
      "source": [
        "# Farm allows simple logging of many parameters & metrics. Let's use the MLflow framework to track our experiment ...\n",
        "# You will see your results on https://public-mlflow.deepset.ai/\n",
        "ml_logger = MLFlowLogger(tracking_uri=\"https://public-mlflow.deepset.ai/\")\n",
        "ml_logger.init_experiment(experiment_name=\"Public_FARM\", run_name=\"Tutorial1_Colab\")\n"
      ],
      "execution_count": null,
      "outputs": []
    },
    {
      "cell_type": "code",
      "metadata": {
        "id": "l6uTw7w3kPcJ",
        "colab": {
          "base_uri": "https://localhost:8080/"
        },
        "outputId": "544af11c-19d1-4a80-c81f-805dec831601"
      },
      "source": [
        "# We need to fetch the right device to drive the growth of our model\n",
        "# Make sure that you have gpu turned on in this notebook by going to\n",
        "# Runtime>Change runtime type and select GPU as Hardware accelerator.\n",
        "\n",
        "device = torch.device(\"cuda\" if torch.cuda.is_available() else \"cpu\")\n",
        "print(\"Devices available: {}\".format(device))"
      ],
      "execution_count": null,
      "outputs": [
        {
          "output_type": "stream",
          "text": [
            "Devices available: cuda\n"
          ],
          "name": "stdout"
        }
      ]
    },
    {
      "cell_type": "markdown",
      "metadata": {
        "id": "cPogG9KLk-Mv"
      },
      "source": [
        "### Data Handling"
      ]
    },
    {
      "cell_type": "code",
      "metadata": {
        "id": "T-2k0Zock2J5"
      },
      "source": [
        "# Here we initialize a tokenizer that will be used for preprocessing text\n",
        "# This is the BERT Tokenizer which uses the byte pair encoding method.\n",
        "# It is currently loaded with a German model\n",
        "\n",
        "tokenizer = Tokenizer.load(\n",
        "    pretrained_model_name_or_path=\"bert-base-cased\",\n",
        "    do_lower_case=False)"
      ],
      "execution_count": null,
      "outputs": []
    },
    {
      "cell_type": "markdown",
      "metadata": {
        "id": "fDz4oYK2xWG4"
      },
      "source": [
        "Now you need to add the \"train.tsv\" and \"test.tsv\" files in the \"Files\" console: \n",
        "   \n",
        "![Screenshot 2021-06-10 at 18-35-30 Google Colaboratory.png](data:image/png;base64,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)"
      ]
    },
    {
      "cell_type": "code",
      "metadata": {
        "id": "08ycfnEIlJa4"
      },
      "source": [
        "# In order to prepare the data for the model, we need a set of\n",
        "# functions to transform data files into PyTorch Datasets.\n",
        "# We group these together in Processor objects.\n",
        "# We will need a new Processor object for each new source of data.\n",
        "# The abstract class can be found in farm.data_handling.processor.Processor\n",
        "\n",
        "LABEL_LIST = [\"Positive\", \"Negative\", \"Neutral\"]\n",
        "processor = TextClassificationProcessor(tokenizer=tokenizer,\n",
        "                                        max_seq_len=128,\n",
        "                                        data_dir=\".\",\n",
        "                                        label_list=LABEL_LIST,\n",
        "                                        metric=\"f1_macro\",\n",
        "                                        label_column_name=\"coarse_label\")"
      ],
      "execution_count": null,
      "outputs": []
    },
    {
      "cell_type": "code",
      "metadata": {
        "id": "zds83m5klLW8"
      },
      "source": [
        "# We need a DataSilo in order to keep our train, dev and test sets separate.\n",
        "# The DataSilo will call the functions in the Processor to generate these sets.\n",
        "# From the DataSilo, we can fetch a PyTorch DataLoader object which will\n",
        "# be passed on to the model.\n",
        "# Here is a good place to define a batch size for the model\n",
        "\n",
        "BATCH_SIZE = 32\n",
        "\n",
        "data_silo = DataSilo(\n",
        "    processor=processor,\n",
        "    batch_size=BATCH_SIZE)"
      ],
      "execution_count": null,
      "outputs": []
    },
    {
      "cell_type": "markdown",
      "metadata": {
        "id": "YG8toIFclN2F"
      },
      "source": [
        "### Modeling"
      ]
    },
    {
      "cell_type": "markdown",
      "metadata": {
        "id": "Cw4CJvz5lRbj"
      },
      "source": [
        "In FARM, we make a strong distinction between the language model and prediction head so that you can mix and match different building blocks for your needs.\n",
        "\n",
        "For example, in the transfer learning paradigm, you might have the one language model that you will be using for both document classification and NER. Or perhaps you have a pretrained language model which you would like to adapt to your domain, then use it for a downstream task such as question answering. \n",
        "\n",
        "All this is possible within FARM and requires only the replacement of a few modular components, as we shall see below.\n",
        "\n",
        "Let's first have a look at how we might set up a model."
      ]
    },
    {
      "cell_type": "code",
      "metadata": {
        "id": "K4TaqNaTlVmm"
      },
      "source": [
        "# The language model is the foundation on which modern NLP systems are built.\n",
        "# They encapsulate a general understanding of sentence semantics\n",
        "# and are not specific to any one task.\n",
        "\n",
        "# Here we are using Google's BERT model as implemented by HuggingFace. \n",
        "# The model being loaded is a German model that we trained. \n",
        "# You can also change the MODEL_NAME_OR_PATH to point to a BERT model that you\n",
        "# have saved or download one connected to the HuggingFace repository.\n",
        "# See farm.modeling.language_model.PRETRAINED_MODEL_ARCHIVE_MAP for a list of\n",
        "# available models\n",
        "\n",
        "MODEL_NAME_OR_PATH = \"bert-base-cased\"\n",
        "\n",
        "language_model = LanguageModel.load(MODEL_NAME_OR_PATH)"
      ],
      "execution_count": null,
      "outputs": []
    },
    {
      "cell_type": "code",
      "metadata": {
        "id": "bKpqm6solWce"
      },
      "source": [
        "# A prediction head is a model that processes the output of the language model\n",
        "# for a specific task.\n",
        "# Prediction heads will look different depending on whether you're doing text classification\n",
        "# Named Entity Recognition (NER), question answering or some other task.\n",
        "# They should generate logits over the available prediction classes and contain methods\n",
        "# to convert these logits to losses or predictions \n",
        "\n",
        "# Here we use TextClassificationHead which receives a single fixed length sentence vector\n",
        "# and processes it using a feed forward neural network. layer_dims is a list of dimensions:\n",
        "# [input_dims, hidden_1_dims, hidden_2_dims ..., output_dims]\n",
        "\n",
        "# Here by default we have a single layer network.\n",
        "# It takes in a vector of length 768 (the default size of BERT's output).\n",
        "# It outputs a vector of length 2 (the number of classes in the GermEval18 (coarse) dataset)\n",
        "\n",
        "prediction_head = TextClassificationHead(num_labels=len(LABEL_LIST), class_weights=data_silo.calculate_class_weights(task_name=\"text_classification\"))"
      ],
      "execution_count": null,
      "outputs": []
    },
    {
      "cell_type": "code",
      "metadata": {
        "id": "sQL1HGo2lZEo"
      },
      "source": [
        "# The language model and prediction head are coupled together in the Adaptive Model.\n",
        "# This class takes care of model saving and loading and also coordinates\n",
        "# cases where there is more than one prediction head.\n",
        "\n",
        "# EMBEDS_DROPOUT_PROB is the probability that an element of the output vector from the\n",
        "# language model will be set to zero.\n",
        "EMBEDS_DROPOUT_PROB = 0.1\n",
        "\n",
        "model = AdaptiveModel(\n",
        "    language_model=language_model,\n",
        "    prediction_heads=[prediction_head],\n",
        "    embeds_dropout_prob=EMBEDS_DROPOUT_PROB,\n",
        "    lm_output_types=[\"per_sequence\"],\n",
        "    device=device)"
      ],
      "execution_count": null,
      "outputs": []
    },
    {
      "cell_type": "markdown",
      "metadata": {
        "id": "UE861jLalax1"
      },
      "source": [
        "### Training"
      ]
    },
    {
      "cell_type": "code",
      "metadata": {
        "id": "4db05tC7lcKy"
      },
      "source": [
        "# Here we initialize a Bert Adam optimizer that has a linear warmup and warmdown\n",
        "# Here you can set learning rate, the warmup proportion and number of epochs to train for\n",
        "\n",
        "LEARNING_RATE = 2e-5\n",
        "N_EPOCHS = 3\n",
        "\n",
        "model, optimizer, lr_schedule = initialize_optimizer(\n",
        "    model=model,\n",
        "    device=device,\n",
        "    learning_rate=LEARNING_RATE,\n",
        "    n_batches=len(data_silo.loaders[\"train\"]),\n",
        "    n_epochs=N_EPOCHS)"
      ],
      "execution_count": null,
      "outputs": []
    },
    {
      "cell_type": "code",
      "metadata": {
        "id": "rpkluUz3lfJn"
      },
      "source": [
        "# Training loop handled by this\n",
        "# It will also trigger evaluation during training using the dev data\n",
        "# and after training using the test data.\n",
        "\n",
        "# Set N_GPU to a positive value if CUDA is available\n",
        "N_GPU = 1\n",
        "\n",
        "trainer = Trainer(\n",
        "    model=model,\n",
        "    optimizer=optimizer,\n",
        "    data_silo=data_silo,\n",
        "    epochs=N_EPOCHS,\n",
        "    n_gpu=N_GPU,\n",
        "    lr_schedule=lr_schedule,\n",
        "    device=device, \n",
        ")"
      ],
      "execution_count": null,
      "outputs": []
    },
    {
      "cell_type": "code",
      "metadata": {
        "id": "KWLMesyre1FB"
      },
      "source": [
        "!nvidia-smi"
      ],
      "execution_count": null,
      "outputs": []
    },
    {
      "cell_type": "code",
      "metadata": {
        "id": "VuSTk5zAlc0A"
      },
      "source": [
        "model = trainer.train()"
      ],
      "execution_count": null,
      "outputs": []
    },
    {
      "cell_type": "code",
      "metadata": {
        "id": "0r8b3etug_F4"
      },
      "source": [
        "# Test your model on a sample (Inference)\n",
        "from farm.infer import Inferencer\n",
        "from pprint import PrettyPrinter\n",
        "\n",
        "infer_model = Inferencer(processor=processor, model=model, task_type=\"text_classification\", gpu=True)\n",
        "\n",
        "basic_texts = [\n",
        "    {\"text\": \"Martin is happy\"},\n",
        "    {\"text\": \"Martin is stupid\"},\n",
        "]\n",
        "result = infer_model.inference_from_dicts(dicts=basic_texts)\n",
        "PrettyPrinter().pprint(result)\n"
      ],
      "execution_count": null,
      "outputs": []
    }
  ]
}