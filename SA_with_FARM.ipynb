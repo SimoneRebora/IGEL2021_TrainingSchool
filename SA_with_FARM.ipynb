{
  "nbformat": 4,
  "nbformat_minor": 0,
  "metadata": {
    "colab": {
      "name": "SA_with_FARM.ipynb",
      "provenance": [],
      "collapsed_sections": [],
      "toc_visible": true
    },
    "kernelspec": {
      "name": "python3",
      "display_name": "Python 3"
    },
    "accelerator": "GPU",
    "widgets": {
      "application/vnd.jupyter.widget-state+json": {
        "dd518797aa4e44d6ba0c339c8e5feae0": {
          "model_module": "@jupyter-widgets/controls",
          "model_name": "HBoxModel",
          "state": {
            "_view_name": "HBoxView",
            "_dom_classes": [],
            "_model_name": "HBoxModel",
            "_view_module": "@jupyter-widgets/controls",
            "_model_module_version": "1.5.0",
            "_view_count": null,
            "_view_module_version": "1.5.0",
            "box_style": "",
            "layout": "IPY_MODEL_168ce0b0d2294c028a6160d1dccfe44b",
            "_model_module": "@jupyter-widgets/controls",
            "children": [
              "IPY_MODEL_71cb494933a447108dc36a8d3701e55f",
              "IPY_MODEL_a17dc933580b41dbb33f4ce878afc95f"
            ]
          }
        },
        "168ce0b0d2294c028a6160d1dccfe44b": {
          "model_module": "@jupyter-widgets/base",
          "model_name": "LayoutModel",
          "state": {
            "_view_name": "LayoutView",
            "grid_template_rows": null,
            "right": null,
            "justify_content": null,
            "_view_module": "@jupyter-widgets/base",
            "overflow": null,
            "_model_module_version": "1.2.0",
            "_view_count": null,
            "flex_flow": null,
            "width": null,
            "min_width": null,
            "border": null,
            "align_items": null,
            "bottom": null,
            "_model_module": "@jupyter-widgets/base",
            "top": null,
            "grid_column": null,
            "overflow_y": null,
            "overflow_x": null,
            "grid_auto_flow": null,
            "grid_area": null,
            "grid_template_columns": null,
            "flex": null,
            "_model_name": "LayoutModel",
            "justify_items": null,
            "grid_row": null,
            "max_height": null,
            "align_content": null,
            "visibility": null,
            "align_self": null,
            "height": null,
            "min_height": null,
            "padding": null,
            "grid_auto_rows": null,
            "grid_gap": null,
            "max_width": null,
            "order": null,
            "_view_module_version": "1.2.0",
            "grid_template_areas": null,
            "object_position": null,
            "object_fit": null,
            "grid_auto_columns": null,
            "margin": null,
            "display": null,
            "left": null
          }
        },
        "71cb494933a447108dc36a8d3701e55f": {
          "model_module": "@jupyter-widgets/controls",
          "model_name": "FloatProgressModel",
          "state": {
            "_view_name": "ProgressView",
            "style": "IPY_MODEL_8216e59ff0ba4a878bc9b9f16050c087",
            "_dom_classes": [],
            "description": "Downloading: 100%",
            "_model_name": "FloatProgressModel",
            "bar_style": "success",
            "max": 570,
            "_view_module": "@jupyter-widgets/controls",
            "_model_module_version": "1.5.0",
            "value": 570,
            "_view_count": null,
            "_view_module_version": "1.5.0",
            "orientation": "horizontal",
            "min": 0,
            "description_tooltip": null,
            "_model_module": "@jupyter-widgets/controls",
            "layout": "IPY_MODEL_982dacb2e958402396399e9ab403b474"
          }
        },
        "a17dc933580b41dbb33f4ce878afc95f": {
          "model_module": "@jupyter-widgets/controls",
          "model_name": "HTMLModel",
          "state": {
            "_view_name": "HTMLView",
            "style": "IPY_MODEL_b65e960ba74145c582e1fe393e263487",
            "_dom_classes": [],
            "description": "",
            "_model_name": "HTMLModel",
            "placeholder": "​",
            "_view_module": "@jupyter-widgets/controls",
            "_model_module_version": "1.5.0",
            "value": " 570/570 [00:01&lt;00:00, 428B/s]",
            "_view_count": null,
            "_view_module_version": "1.5.0",
            "description_tooltip": null,
            "_model_module": "@jupyter-widgets/controls",
            "layout": "IPY_MODEL_00ad043f22b94378b43c14437257f418"
          }
        },
        "8216e59ff0ba4a878bc9b9f16050c087": {
          "model_module": "@jupyter-widgets/controls",
          "model_name": "ProgressStyleModel",
          "state": {
            "_view_name": "StyleView",
            "_model_name": "ProgressStyleModel",
            "description_width": "initial",
            "_view_module": "@jupyter-widgets/base",
            "_model_module_version": "1.5.0",
            "_view_count": null,
            "_view_module_version": "1.2.0",
            "bar_color": null,
            "_model_module": "@jupyter-widgets/controls"
          }
        },
        "982dacb2e958402396399e9ab403b474": {
          "model_module": "@jupyter-widgets/base",
          "model_name": "LayoutModel",
          "state": {
            "_view_name": "LayoutView",
            "grid_template_rows": null,
            "right": null,
            "justify_content": null,
            "_view_module": "@jupyter-widgets/base",
            "overflow": null,
            "_model_module_version": "1.2.0",
            "_view_count": null,
            "flex_flow": null,
            "width": null,
            "min_width": null,
            "border": null,
            "align_items": null,
            "bottom": null,
            "_model_module": "@jupyter-widgets/base",
            "top": null,
            "grid_column": null,
            "overflow_y": null,
            "overflow_x": null,
            "grid_auto_flow": null,
            "grid_area": null,
            "grid_template_columns": null,
            "flex": null,
            "_model_name": "LayoutModel",
            "justify_items": null,
            "grid_row": null,
            "max_height": null,
            "align_content": null,
            "visibility": null,
            "align_self": null,
            "height": null,
            "min_height": null,
            "padding": null,
            "grid_auto_rows": null,
            "grid_gap": null,
            "max_width": null,
            "order": null,
            "_view_module_version": "1.2.0",
            "grid_template_areas": null,
            "object_position": null,
            "object_fit": null,
            "grid_auto_columns": null,
            "margin": null,
            "display": null,
            "left": null
          }
        },
        "b65e960ba74145c582e1fe393e263487": {
          "model_module": "@jupyter-widgets/controls",
          "model_name": "DescriptionStyleModel",
          "state": {
            "_view_name": "StyleView",
            "_model_name": "DescriptionStyleModel",
            "description_width": "",
            "_view_module": "@jupyter-widgets/base",
            "_model_module_version": "1.5.0",
            "_view_count": null,
            "_view_module_version": "1.2.0",
            "_model_module": "@jupyter-widgets/controls"
          }
        },
        "00ad043f22b94378b43c14437257f418": {
          "model_module": "@jupyter-widgets/base",
          "model_name": "LayoutModel",
          "state": {
            "_view_name": "LayoutView",
            "grid_template_rows": null,
            "right": null,
            "justify_content": null,
            "_view_module": "@jupyter-widgets/base",
            "overflow": null,
            "_model_module_version": "1.2.0",
            "_view_count": null,
            "flex_flow": null,
            "width": null,
            "min_width": null,
            "border": null,
            "align_items": null,
            "bottom": null,
            "_model_module": "@jupyter-widgets/base",
            "top": null,
            "grid_column": null,
            "overflow_y": null,
            "overflow_x": null,
            "grid_auto_flow": null,
            "grid_area": null,
            "grid_template_columns": null,
            "flex": null,
            "_model_name": "LayoutModel",
            "justify_items": null,
            "grid_row": null,
            "max_height": null,
            "align_content": null,
            "visibility": null,
            "align_self": null,
            "height": null,
            "min_height": null,
            "padding": null,
            "grid_auto_rows": null,
            "grid_gap": null,
            "max_width": null,
            "order": null,
            "_view_module_version": "1.2.0",
            "grid_template_areas": null,
            "object_position": null,
            "object_fit": null,
            "grid_auto_columns": null,
            "margin": null,
            "display": null,
            "left": null
          }
        },
        "235cc859dc7e4c2cbaa3c753155f4ae2": {
          "model_module": "@jupyter-widgets/controls",
          "model_name": "HBoxModel",
          "state": {
            "_view_name": "HBoxView",
            "_dom_classes": [],
            "_model_name": "HBoxModel",
            "_view_module": "@jupyter-widgets/controls",
            "_model_module_version": "1.5.0",
            "_view_count": null,
            "_view_module_version": "1.5.0",
            "box_style": "",
            "layout": "IPY_MODEL_c6f57d862c474090860bae3cf90c6c38",
            "_model_module": "@jupyter-widgets/controls",
            "children": [
              "IPY_MODEL_abc598ff051a44999b53ec78fe2c4edb",
              "IPY_MODEL_87b62748fec3455cb219414d1cef8a0d"
            ]
          }
        },
        "c6f57d862c474090860bae3cf90c6c38": {
          "model_module": "@jupyter-widgets/base",
          "model_name": "LayoutModel",
          "state": {
            "_view_name": "LayoutView",
            "grid_template_rows": null,
            "right": null,
            "justify_content": null,
            "_view_module": "@jupyter-widgets/base",
            "overflow": null,
            "_model_module_version": "1.2.0",
            "_view_count": null,
            "flex_flow": null,
            "width": null,
            "min_width": null,
            "border": null,
            "align_items": null,
            "bottom": null,
            "_model_module": "@jupyter-widgets/base",
            "top": null,
            "grid_column": null,
            "overflow_y": null,
            "overflow_x": null,
            "grid_auto_flow": null,
            "grid_area": null,
            "grid_template_columns": null,
            "flex": null,
            "_model_name": "LayoutModel",
            "justify_items": null,
            "grid_row": null,
            "max_height": null,
            "align_content": null,
            "visibility": null,
            "align_self": null,
            "height": null,
            "min_height": null,
            "padding": null,
            "grid_auto_rows": null,
            "grid_gap": null,
            "max_width": null,
            "order": null,
            "_view_module_version": "1.2.0",
            "grid_template_areas": null,
            "object_position": null,
            "object_fit": null,
            "grid_auto_columns": null,
            "margin": null,
            "display": null,
            "left": null
          }
        },
        "abc598ff051a44999b53ec78fe2c4edb": {
          "model_module": "@jupyter-widgets/controls",
          "model_name": "FloatProgressModel",
          "state": {
            "_view_name": "ProgressView",
            "style": "IPY_MODEL_35bdb24dff7b44eebdd6c3baeca71206",
            "_dom_classes": [],
            "description": "Downloading: 100%",
            "_model_name": "FloatProgressModel",
            "bar_style": "success",
            "max": 213450,
            "_view_module": "@jupyter-widgets/controls",
            "_model_module_version": "1.5.0",
            "value": 213450,
            "_view_count": null,
            "_view_module_version": "1.5.0",
            "orientation": "horizontal",
            "min": 0,
            "description_tooltip": null,
            "_model_module": "@jupyter-widgets/controls",
            "layout": "IPY_MODEL_37ad4d19f9394859866c4136d60c6426"
          }
        },
        "87b62748fec3455cb219414d1cef8a0d": {
          "model_module": "@jupyter-widgets/controls",
          "model_name": "HTMLModel",
          "state": {
            "_view_name": "HTMLView",
            "style": "IPY_MODEL_9b245d4a20374d2c8c6bd221b6e52905",
            "_dom_classes": [],
            "description": "",
            "_model_name": "HTMLModel",
            "placeholder": "​",
            "_view_module": "@jupyter-widgets/controls",
            "_model_module_version": "1.5.0",
            "value": " 213k/213k [00:00&lt;00:00, 361kB/s]",
            "_view_count": null,
            "_view_module_version": "1.5.0",
            "description_tooltip": null,
            "_model_module": "@jupyter-widgets/controls",
            "layout": "IPY_MODEL_40bd9e2af2394bce9ffa6071f902e6ba"
          }
        },
        "35bdb24dff7b44eebdd6c3baeca71206": {
          "model_module": "@jupyter-widgets/controls",
          "model_name": "ProgressStyleModel",
          "state": {
            "_view_name": "StyleView",
            "_model_name": "ProgressStyleModel",
            "description_width": "initial",
            "_view_module": "@jupyter-widgets/base",
            "_model_module_version": "1.5.0",
            "_view_count": null,
            "_view_module_version": "1.2.0",
            "bar_color": null,
            "_model_module": "@jupyter-widgets/controls"
          }
        },
        "37ad4d19f9394859866c4136d60c6426": {
          "model_module": "@jupyter-widgets/base",
          "model_name": "LayoutModel",
          "state": {
            "_view_name": "LayoutView",
            "grid_template_rows": null,
            "right": null,
            "justify_content": null,
            "_view_module": "@jupyter-widgets/base",
            "overflow": null,
            "_model_module_version": "1.2.0",
            "_view_count": null,
            "flex_flow": null,
            "width": null,
            "min_width": null,
            "border": null,
            "align_items": null,
            "bottom": null,
            "_model_module": "@jupyter-widgets/base",
            "top": null,
            "grid_column": null,
            "overflow_y": null,
            "overflow_x": null,
            "grid_auto_flow": null,
            "grid_area": null,
            "grid_template_columns": null,
            "flex": null,
            "_model_name": "LayoutModel",
            "justify_items": null,
            "grid_row": null,
            "max_height": null,
            "align_content": null,
            "visibility": null,
            "align_self": null,
            "height": null,
            "min_height": null,
            "padding": null,
            "grid_auto_rows": null,
            "grid_gap": null,
            "max_width": null,
            "order": null,
            "_view_module_version": "1.2.0",
            "grid_template_areas": null,
            "object_position": null,
            "object_fit": null,
            "grid_auto_columns": null,
            "margin": null,
            "display": null,
            "left": null
          }
        },
        "9b245d4a20374d2c8c6bd221b6e52905": {
          "model_module": "@jupyter-widgets/controls",
          "model_name": "DescriptionStyleModel",
          "state": {
            "_view_name": "StyleView",
            "_model_name": "DescriptionStyleModel",
            "description_width": "",
            "_view_module": "@jupyter-widgets/base",
            "_model_module_version": "1.5.0",
            "_view_count": null,
            "_view_module_version": "1.2.0",
            "_model_module": "@jupyter-widgets/controls"
          }
        },
        "40bd9e2af2394bce9ffa6071f902e6ba": {
          "model_module": "@jupyter-widgets/base",
          "model_name": "LayoutModel",
          "state": {
            "_view_name": "LayoutView",
            "grid_template_rows": null,
            "right": null,
            "justify_content": null,
            "_view_module": "@jupyter-widgets/base",
            "overflow": null,
            "_model_module_version": "1.2.0",
            "_view_count": null,
            "flex_flow": null,
            "width": null,
            "min_width": null,
            "border": null,
            "align_items": null,
            "bottom": null,
            "_model_module": "@jupyter-widgets/base",
            "top": null,
            "grid_column": null,
            "overflow_y": null,
            "overflow_x": null,
            "grid_auto_flow": null,
            "grid_area": null,
            "grid_template_columns": null,
            "flex": null,
            "_model_name": "LayoutModel",
            "justify_items": null,
            "grid_row": null,
            "max_height": null,
            "align_content": null,
            "visibility": null,
            "align_self": null,
            "height": null,
            "min_height": null,
            "padding": null,
            "grid_auto_rows": null,
            "grid_gap": null,
            "max_width": null,
            "order": null,
            "_view_module_version": "1.2.0",
            "grid_template_areas": null,
            "object_position": null,
            "object_fit": null,
            "grid_auto_columns": null,
            "margin": null,
            "display": null,
            "left": null
          }
        },
        "cf0ecfbaa9864c0086b1ebf292a2ecf0": {
          "model_module": "@jupyter-widgets/controls",
          "model_name": "HBoxModel",
          "state": {
            "_view_name": "HBoxView",
            "_dom_classes": [],
            "_model_name": "HBoxModel",
            "_view_module": "@jupyter-widgets/controls",
            "_model_module_version": "1.5.0",
            "_view_count": null,
            "_view_module_version": "1.5.0",
            "box_style": "",
            "layout": "IPY_MODEL_b21934428e6b45b6a66d94affe176685",
            "_model_module": "@jupyter-widgets/controls",
            "children": [
              "IPY_MODEL_5503e0656bd24d6bb12ceaff68f30c42",
              "IPY_MODEL_4a1444bedb2b4e8a921ebaf76509888f"
            ]
          }
        },
        "b21934428e6b45b6a66d94affe176685": {
          "model_module": "@jupyter-widgets/base",
          "model_name": "LayoutModel",
          "state": {
            "_view_name": "LayoutView",
            "grid_template_rows": null,
            "right": null,
            "justify_content": null,
            "_view_module": "@jupyter-widgets/base",
            "overflow": null,
            "_model_module_version": "1.2.0",
            "_view_count": null,
            "flex_flow": null,
            "width": null,
            "min_width": null,
            "border": null,
            "align_items": null,
            "bottom": null,
            "_model_module": "@jupyter-widgets/base",
            "top": null,
            "grid_column": null,
            "overflow_y": null,
            "overflow_x": null,
            "grid_auto_flow": null,
            "grid_area": null,
            "grid_template_columns": null,
            "flex": null,
            "_model_name": "LayoutModel",
            "justify_items": null,
            "grid_row": null,
            "max_height": null,
            "align_content": null,
            "visibility": null,
            "align_self": null,
            "height": null,
            "min_height": null,
            "padding": null,
            "grid_auto_rows": null,
            "grid_gap": null,
            "max_width": null,
            "order": null,
            "_view_module_version": "1.2.0",
            "grid_template_areas": null,
            "object_position": null,
            "object_fit": null,
            "grid_auto_columns": null,
            "margin": null,
            "display": null,
            "left": null
          }
        },
        "5503e0656bd24d6bb12ceaff68f30c42": {
          "model_module": "@jupyter-widgets/controls",
          "model_name": "FloatProgressModel",
          "state": {
            "_view_name": "ProgressView",
            "style": "IPY_MODEL_53a4c7f2ad27418ab7f512eda4fa589b",
            "_dom_classes": [],
            "description": "Downloading: 100%",
            "_model_name": "FloatProgressModel",
            "bar_style": "success",
            "max": 435797,
            "_view_module": "@jupyter-widgets/controls",
            "_model_module_version": "1.5.0",
            "value": 435797,
            "_view_count": null,
            "_view_module_version": "1.5.0",
            "orientation": "horizontal",
            "min": 0,
            "description_tooltip": null,
            "_model_module": "@jupyter-widgets/controls",
            "layout": "IPY_MODEL_c8adcb742fac4bb48a8f48a4bdd37549"
          }
        },
        "4a1444bedb2b4e8a921ebaf76509888f": {
          "model_module": "@jupyter-widgets/controls",
          "model_name": "HTMLModel",
          "state": {
            "_view_name": "HTMLView",
            "style": "IPY_MODEL_24fba6ee970c441d850879ebcd1daab2",
            "_dom_classes": [],
            "description": "",
            "_model_name": "HTMLModel",
            "placeholder": "​",
            "_view_module": "@jupyter-widgets/controls",
            "_model_module_version": "1.5.0",
            "value": " 436k/436k [07:44&lt;00:00, 938B/s]",
            "_view_count": null,
            "_view_module_version": "1.5.0",
            "description_tooltip": null,
            "_model_module": "@jupyter-widgets/controls",
            "layout": "IPY_MODEL_8ec96e0521584293ab622cbe2e444f51"
          }
        },
        "53a4c7f2ad27418ab7f512eda4fa589b": {
          "model_module": "@jupyter-widgets/controls",
          "model_name": "ProgressStyleModel",
          "state": {
            "_view_name": "StyleView",
            "_model_name": "ProgressStyleModel",
            "description_width": "initial",
            "_view_module": "@jupyter-widgets/base",
            "_model_module_version": "1.5.0",
            "_view_count": null,
            "_view_module_version": "1.2.0",
            "bar_color": null,
            "_model_module": "@jupyter-widgets/controls"
          }
        },
        "c8adcb742fac4bb48a8f48a4bdd37549": {
          "model_module": "@jupyter-widgets/base",
          "model_name": "LayoutModel",
          "state": {
            "_view_name": "LayoutView",
            "grid_template_rows": null,
            "right": null,
            "justify_content": null,
            "_view_module": "@jupyter-widgets/base",
            "overflow": null,
            "_model_module_version": "1.2.0",
            "_view_count": null,
            "flex_flow": null,
            "width": null,
            "min_width": null,
            "border": null,
            "align_items": null,
            "bottom": null,
            "_model_module": "@jupyter-widgets/base",
            "top": null,
            "grid_column": null,
            "overflow_y": null,
            "overflow_x": null,
            "grid_auto_flow": null,
            "grid_area": null,
            "grid_template_columns": null,
            "flex": null,
            "_model_name": "LayoutModel",
            "justify_items": null,
            "grid_row": null,
            "max_height": null,
            "align_content": null,
            "visibility": null,
            "align_self": null,
            "height": null,
            "min_height": null,
            "padding": null,
            "grid_auto_rows": null,
            "grid_gap": null,
            "max_width": null,
            "order": null,
            "_view_module_version": "1.2.0",
            "grid_template_areas": null,
            "object_position": null,
            "object_fit": null,
            "grid_auto_columns": null,
            "margin": null,
            "display": null,
            "left": null
          }
        },
        "24fba6ee970c441d850879ebcd1daab2": {
          "model_module": "@jupyter-widgets/controls",
          "model_name": "DescriptionStyleModel",
          "state": {
            "_view_name": "StyleView",
            "_model_name": "DescriptionStyleModel",
            "description_width": "",
            "_view_module": "@jupyter-widgets/base",
            "_model_module_version": "1.5.0",
            "_view_count": null,
            "_view_module_version": "1.2.0",
            "_model_module": "@jupyter-widgets/controls"
          }
        },
        "8ec96e0521584293ab622cbe2e444f51": {
          "model_module": "@jupyter-widgets/base",
          "model_name": "LayoutModel",
          "state": {
            "_view_name": "LayoutView",
            "grid_template_rows": null,
            "right": null,
            "justify_content": null,
            "_view_module": "@jupyter-widgets/base",
            "overflow": null,
            "_model_module_version": "1.2.0",
            "_view_count": null,
            "flex_flow": null,
            "width": null,
            "min_width": null,
            "border": null,
            "align_items": null,
            "bottom": null,
            "_model_module": "@jupyter-widgets/base",
            "top": null,
            "grid_column": null,
            "overflow_y": null,
            "overflow_x": null,
            "grid_auto_flow": null,
            "grid_area": null,
            "grid_template_columns": null,
            "flex": null,
            "_model_name": "LayoutModel",
            "justify_items": null,
            "grid_row": null,
            "max_height": null,
            "align_content": null,
            "visibility": null,
            "align_self": null,
            "height": null,
            "min_height": null,
            "padding": null,
            "grid_auto_rows": null,
            "grid_gap": null,
            "max_width": null,
            "order": null,
            "_view_module_version": "1.2.0",
            "grid_template_areas": null,
            "object_position": null,
            "object_fit": null,
            "grid_auto_columns": null,
            "margin": null,
            "display": null,
            "left": null
          }
        },
        "e24838a603be4170899aae7114d138f5": {
          "model_module": "@jupyter-widgets/controls",
          "model_name": "HBoxModel",
          "state": {
            "_view_name": "HBoxView",
            "_dom_classes": [],
            "_model_name": "HBoxModel",
            "_view_module": "@jupyter-widgets/controls",
            "_model_module_version": "1.5.0",
            "_view_count": null,
            "_view_module_version": "1.5.0",
            "box_style": "",
            "layout": "IPY_MODEL_99e0bbc7b51c4e6496376ed0f9eba94c",
            "_model_module": "@jupyter-widgets/controls",
            "children": [
              "IPY_MODEL_682bf734b1c246ca9cc8d63a1568dbf2",
              "IPY_MODEL_400932a5d2f24acb95a4a730542c7582"
            ]
          }
        },
        "99e0bbc7b51c4e6496376ed0f9eba94c": {
          "model_module": "@jupyter-widgets/base",
          "model_name": "LayoutModel",
          "state": {
            "_view_name": "LayoutView",
            "grid_template_rows": null,
            "right": null,
            "justify_content": null,
            "_view_module": "@jupyter-widgets/base",
            "overflow": null,
            "_model_module_version": "1.2.0",
            "_view_count": null,
            "flex_flow": null,
            "width": null,
            "min_width": null,
            "border": null,
            "align_items": null,
            "bottom": null,
            "_model_module": "@jupyter-widgets/base",
            "top": null,
            "grid_column": null,
            "overflow_y": null,
            "overflow_x": null,
            "grid_auto_flow": null,
            "grid_area": null,
            "grid_template_columns": null,
            "flex": null,
            "_model_name": "LayoutModel",
            "justify_items": null,
            "grid_row": null,
            "max_height": null,
            "align_content": null,
            "visibility": null,
            "align_self": null,
            "height": null,
            "min_height": null,
            "padding": null,
            "grid_auto_rows": null,
            "grid_gap": null,
            "max_width": null,
            "order": null,
            "_view_module_version": "1.2.0",
            "grid_template_areas": null,
            "object_position": null,
            "object_fit": null,
            "grid_auto_columns": null,
            "margin": null,
            "display": null,
            "left": null
          }
        },
        "682bf734b1c246ca9cc8d63a1568dbf2": {
          "model_module": "@jupyter-widgets/controls",
          "model_name": "FloatProgressModel",
          "state": {
            "_view_name": "ProgressView",
            "style": "IPY_MODEL_750ce408eec74e71ac92ce49206b1c6a",
            "_dom_classes": [],
            "description": "Downloading: 100%",
            "_model_name": "FloatProgressModel",
            "bar_style": "success",
            "max": 435779157,
            "_view_module": "@jupyter-widgets/controls",
            "_model_module_version": "1.5.0",
            "value": 435779157,
            "_view_count": null,
            "_view_module_version": "1.5.0",
            "orientation": "horizontal",
            "min": 0,
            "description_tooltip": null,
            "_model_module": "@jupyter-widgets/controls",
            "layout": "IPY_MODEL_773fd9225a464bd1acf883da244130d2"
          }
        },
        "400932a5d2f24acb95a4a730542c7582": {
          "model_module": "@jupyter-widgets/controls",
          "model_name": "HTMLModel",
          "state": {
            "_view_name": "HTMLView",
            "style": "IPY_MODEL_8c39b713388c470986649e13244897bd",
            "_dom_classes": [],
            "description": "",
            "_model_name": "HTMLModel",
            "placeholder": "​",
            "_view_module": "@jupyter-widgets/controls",
            "_model_module_version": "1.5.0",
            "value": " 436M/436M [00:08&lt;00:00, 49.9MB/s]",
            "_view_count": null,
            "_view_module_version": "1.5.0",
            "description_tooltip": null,
            "_model_module": "@jupyter-widgets/controls",
            "layout": "IPY_MODEL_4fff6534df60494d99642485e369423a"
          }
        },
        "750ce408eec74e71ac92ce49206b1c6a": {
          "model_module": "@jupyter-widgets/controls",
          "model_name": "ProgressStyleModel",
          "state": {
            "_view_name": "StyleView",
            "_model_name": "ProgressStyleModel",
            "description_width": "initial",
            "_view_module": "@jupyter-widgets/base",
            "_model_module_version": "1.5.0",
            "_view_count": null,
            "_view_module_version": "1.2.0",
            "bar_color": null,
            "_model_module": "@jupyter-widgets/controls"
          }
        },
        "773fd9225a464bd1acf883da244130d2": {
          "model_module": "@jupyter-widgets/base",
          "model_name": "LayoutModel",
          "state": {
            "_view_name": "LayoutView",
            "grid_template_rows": null,
            "right": null,
            "justify_content": null,
            "_view_module": "@jupyter-widgets/base",
            "overflow": null,
            "_model_module_version": "1.2.0",
            "_view_count": null,
            "flex_flow": null,
            "width": null,
            "min_width": null,
            "border": null,
            "align_items": null,
            "bottom": null,
            "_model_module": "@jupyter-widgets/base",
            "top": null,
            "grid_column": null,
            "overflow_y": null,
            "overflow_x": null,
            "grid_auto_flow": null,
            "grid_area": null,
            "grid_template_columns": null,
            "flex": null,
            "_model_name": "LayoutModel",
            "justify_items": null,
            "grid_row": null,
            "max_height": null,
            "align_content": null,
            "visibility": null,
            "align_self": null,
            "height": null,
            "min_height": null,
            "padding": null,
            "grid_auto_rows": null,
            "grid_gap": null,
            "max_width": null,
            "order": null,
            "_view_module_version": "1.2.0",
            "grid_template_areas": null,
            "object_position": null,
            "object_fit": null,
            "grid_auto_columns": null,
            "margin": null,
            "display": null,
            "left": null
          }
        },
        "8c39b713388c470986649e13244897bd": {
          "model_module": "@jupyter-widgets/controls",
          "model_name": "DescriptionStyleModel",
          "state": {
            "_view_name": "StyleView",
            "_model_name": "DescriptionStyleModel",
            "description_width": "",
            "_view_module": "@jupyter-widgets/base",
            "_model_module_version": "1.5.0",
            "_view_count": null,
            "_view_module_version": "1.2.0",
            "_model_module": "@jupyter-widgets/controls"
          }
        },
        "4fff6534df60494d99642485e369423a": {
          "model_module": "@jupyter-widgets/base",
          "model_name": "LayoutModel",
          "state": {
            "_view_name": "LayoutView",
            "grid_template_rows": null,
            "right": null,
            "justify_content": null,
            "_view_module": "@jupyter-widgets/base",
            "overflow": null,
            "_model_module_version": "1.2.0",
            "_view_count": null,
            "flex_flow": null,
            "width": null,
            "min_width": null,
            "border": null,
            "align_items": null,
            "bottom": null,
            "_model_module": "@jupyter-widgets/base",
            "top": null,
            "grid_column": null,
            "overflow_y": null,
            "overflow_x": null,
            "grid_auto_flow": null,
            "grid_area": null,
            "grid_template_columns": null,
            "flex": null,
            "_model_name": "LayoutModel",
            "justify_items": null,
            "grid_row": null,
            "max_height": null,
            "align_content": null,
            "visibility": null,
            "align_self": null,
            "height": null,
            "min_height": null,
            "padding": null,
            "grid_auto_rows": null,
            "grid_gap": null,
            "max_width": null,
            "order": null,
            "_view_module_version": "1.2.0",
            "grid_template_areas": null,
            "object_position": null,
            "object_fit": null,
            "grid_auto_columns": null,
            "margin": null,
            "display": null,
            "left": null
          }
        }
      }
    }
  },
  "cells": [
    {
      "cell_type": "markdown",
      "metadata": {
        "id": "tPltDefXjSiJ"
      },
      "source": [
        "# Basic SA with FARM\n",
        "\n",
        "Based on: https://colab.research.google.com/drive/130_7dgVC3VdLBPhiEkGULHmqSlflhmVM  \n",
        "...with a few modifications to make it work for basic sentiment (valence) classification"
      ]
    },
    {
      "cell_type": "markdown",
      "metadata": {
        "id": "MQz1S2d5jfST"
      },
      "source": [
        "### Setup"
      ]
    },
    {
      "cell_type": "code",
      "metadata": {
        "id": "PeIWk6_4jiQ2",
        "colab": {
          "base_uri": "https://localhost:8080/"
        },
        "outputId": "81042a5b-f67f-4e49-9806-35adf8c512b3"
      },
      "source": [
        "# Install FARM\n",
        "!pip install torch==1.8.1+cu101 -f https://download.pytorch.org/whl/torch_stable.html\n",
        "!pip install farm==0.7.1"
      ],
      "execution_count": 1,
      "outputs": [
        {
          "output_type": "stream",
          "text": [
            "Looking in links: https://download.pytorch.org/whl/torch_stable.html\n",
            "Requirement already satisfied: torch==1.8.1+cu101 in /usr/local/lib/python3.7/dist-packages (1.8.1+cu101)\n",
            "Requirement already satisfied: numpy in /usr/local/lib/python3.7/dist-packages (from torch==1.8.1+cu101) (1.19.5)\n",
            "Requirement already satisfied: typing-extensions in /usr/local/lib/python3.7/dist-packages (from torch==1.8.1+cu101) (3.7.4.3)\n",
            "Collecting farm==0.7.1\n",
            "\u001b[?25l  Downloading https://files.pythonhosted.org/packages/88/ac/5f2fe156cddd329e28b65f002b617136016b9086256ecb0aaa4e13a69e96/farm-0.7.1-py3-none-any.whl (203kB)\n",
            "\u001b[K     |████████████████████████████████| 204kB 13.6MB/s \n",
            "\u001b[?25hCollecting transformers==4.1.1\n",
            "\u001b[?25l  Downloading https://files.pythonhosted.org/packages/50/0c/7d5950fcd80b029be0a8891727ba21e0cd27692c407c51261c3c921f6da3/transformers-4.1.1-py3-none-any.whl (1.5MB)\n",
            "\u001b[K     |████████████████████████████████| 1.5MB 34.4MB/s \n",
            "\u001b[?25hCollecting flask-cors\n",
            "  Downloading https://files.pythonhosted.org/packages/db/84/901e700de86604b1c4ef4b57110d4e947c218b9997adf5d38fa7da493bce/Flask_Cors-3.0.10-py2.py3-none-any.whl\n",
            "Requirement already satisfied: tqdm in /usr/local/lib/python3.7/dist-packages (from farm==0.7.1) (4.41.1)\n",
            "Collecting dotmap\n",
            "  Downloading https://files.pythonhosted.org/packages/17/6f/c94adbb0e6d418ededbf1082a3067f178fb012573b960d446e5655e6fbe1/dotmap-1.3.23-py3-none-any.whl\n",
            "Collecting flask-restplus\n",
            "\u001b[?25l  Downloading https://files.pythonhosted.org/packages/c2/a6/b17c848771f96ad039ad9e3ea275e842a16c39c4f3eb9f60ee330b20b6c2/flask_restplus-0.13.0-py2.py3-none-any.whl (2.5MB)\n",
            "\u001b[K     |████████████████████████████████| 2.5MB 52.0MB/s \n",
            "\u001b[?25hRequirement already satisfied: flask in /usr/local/lib/python3.7/dist-packages (from farm==0.7.1) (1.1.4)\n",
            "Requirement already satisfied: wheel in /usr/local/lib/python3.7/dist-packages (from farm==0.7.1) (0.36.2)\n",
            "Requirement already satisfied: scipy>=1.3.2 in /usr/local/lib/python3.7/dist-packages (from farm==0.7.1) (1.4.1)\n",
            "Collecting mlflow<=1.13.1\n",
            "\u001b[?25l  Downloading https://files.pythonhosted.org/packages/4c/4d/a6a4460e214842377dbc43d3e83bf976d564f7976822a9351adde60af44b/mlflow-1.13.1-py3-none-any.whl (14.1MB)\n",
            "\u001b[K     |████████████████████████████████| 14.2MB 48.6MB/s \n",
            "\u001b[?25hCollecting Werkzeug==0.16.1\n",
            "\u001b[?25l  Downloading https://files.pythonhosted.org/packages/c2/e4/a859d2fe516f466642fa5c6054fd9646271f9da26b0cac0d2f37fc858c8f/Werkzeug-0.16.1-py2.py3-none-any.whl (327kB)\n",
            "\u001b[K     |████████████████████████████████| 327kB 50.0MB/s \n",
            "\u001b[?25hCollecting sentencepiece\n",
            "\u001b[?25l  Downloading https://files.pythonhosted.org/packages/f5/99/e0808cb947ba10f575839c43e8fafc9cc44e4a7a2c8f79c60db48220a577/sentencepiece-0.1.95-cp37-cp37m-manylinux2014_x86_64.whl (1.2MB)\n",
            "\u001b[K     |████████████████████████████████| 1.2MB 39.2MB/s \n",
            "\u001b[?25hRequirement already satisfied: setuptools in /usr/local/lib/python3.7/dist-packages (from farm==0.7.1) (57.0.0)\n",
            "Requirement already satisfied: psutil in /usr/local/lib/python3.7/dist-packages (from farm==0.7.1) (5.4.8)\n",
            "Requirement already satisfied: sklearn in /usr/local/lib/python3.7/dist-packages (from farm==0.7.1) (0.0)\n",
            "Requirement already satisfied: dill in /usr/local/lib/python3.7/dist-packages (from farm==0.7.1) (0.3.3)\n",
            "Collecting torch<1.8,>1.5\n",
            "\u001b[?25l  Downloading https://files.pythonhosted.org/packages/90/5d/095ddddc91c8a769a68c791c019c5793f9c4456a688ddd235d6670924ecb/torch-1.7.1-cp37-cp37m-manylinux1_x86_64.whl (776.8MB)\n",
            "\u001b[K     |████████████████████████████████| 776.8MB 24kB/s \n",
            "\u001b[?25hRequirement already satisfied: requests in /usr/local/lib/python3.7/dist-packages (from farm==0.7.1) (2.23.0)\n",
            "\u001b[33mWARNING: Retrying (Retry(total=4, connect=None, read=None, redirect=None, status=None)) after connection broken by 'ProtocolError('Connection aborted.', ConnectionResetError(104, 'Connection reset by peer'))': /simple/boto3/\u001b[0m\n",
            "Collecting boto3\n",
            "\u001b[?25l  Downloading https://files.pythonhosted.org/packages/a4/35/d606b0abba3b98f81a477745069e8ee3e0c4eb27e7ce038f9a06bcf5cceb/boto3-1.17.91-py2.py3-none-any.whl (131kB)\n",
            "\u001b[K     |████████████████████████████████| 133kB 57.1MB/s \n",
            "\u001b[?25hCollecting seqeval\n",
            "\u001b[?25l  Downloading https://files.pythonhosted.org/packages/9d/2d/233c79d5b4e5ab1dbf111242299153f3caddddbb691219f363ad55ce783d/seqeval-1.2.2.tar.gz (43kB)\n",
            "\u001b[K     |████████████████████████████████| 51kB 9.5MB/s \n",
            "\u001b[?25hRequirement already satisfied: packaging in /usr/local/lib/python3.7/dist-packages (from transformers==4.1.1->farm==0.7.1) (20.9)\n",
            "Requirement already satisfied: regex!=2019.12.17 in /usr/local/lib/python3.7/dist-packages (from transformers==4.1.1->farm==0.7.1) (2019.12.20)\n",
            "Collecting sacremoses\n",
            "\u001b[?25l  Downloading https://files.pythonhosted.org/packages/75/ee/67241dc87f266093c533a2d4d3d69438e57d7a90abb216fa076e7d475d4a/sacremoses-0.0.45-py3-none-any.whl (895kB)\n",
            "\u001b[K     |████████████████████████████████| 901kB 40.2MB/s \n",
            "\u001b[?25hRequirement already satisfied: numpy in /usr/local/lib/python3.7/dist-packages (from transformers==4.1.1->farm==0.7.1) (1.19.5)\n",
            "Collecting tokenizers==0.9.4\n",
            "\u001b[?25l  Downloading https://files.pythonhosted.org/packages/fb/36/59e4a62254c5fcb43894c6b0e9403ec6f4238cc2422a003ed2e6279a1784/tokenizers-0.9.4-cp37-cp37m-manylinux2010_x86_64.whl (2.9MB)\n",
            "\u001b[K     |████████████████████████████████| 2.9MB 32.5MB/s \n",
            "\u001b[?25hRequirement already satisfied: filelock in /usr/local/lib/python3.7/dist-packages (from transformers==4.1.1->farm==0.7.1) (3.0.12)\n",
            "Requirement already satisfied: Six in /usr/local/lib/python3.7/dist-packages (from flask-cors->farm==0.7.1) (1.15.0)\n",
            "Requirement already satisfied: pytz in /usr/local/lib/python3.7/dist-packages (from flask-restplus->farm==0.7.1) (2018.9)\n",
            "Collecting aniso8601>=0.82\n",
            "\u001b[?25l  Downloading https://files.pythonhosted.org/packages/e3/04/e97c12dc034791d7b504860acfcdd2963fa21ae61eaca1c9d31245f812c3/aniso8601-9.0.1-py2.py3-none-any.whl (52kB)\n",
            "\u001b[K     |████████████████████████████████| 61kB 8.5MB/s \n",
            "\u001b[?25hRequirement already satisfied: jsonschema in /usr/local/lib/python3.7/dist-packages (from flask-restplus->farm==0.7.1) (2.6.0)\n",
            "Requirement already satisfied: Jinja2<3.0,>=2.10.1 in /usr/local/lib/python3.7/dist-packages (from flask->farm==0.7.1) (2.11.3)\n",
            "Requirement already satisfied: click<8.0,>=5.1 in /usr/local/lib/python3.7/dist-packages (from flask->farm==0.7.1) (7.1.2)\n",
            "Requirement already satisfied: itsdangerous<2.0,>=0.24 in /usr/local/lib/python3.7/dist-packages (from flask->farm==0.7.1) (1.1.0)\n",
            "Collecting prometheus-flask-exporter\n",
            "  Downloading https://files.pythonhosted.org/packages/f3/c1/2cc385fadf18dc75fe24c18899269eda4dcc60221d61eff7da4a6cc5c01d/prometheus_flask_exporter-0.18.2.tar.gz\n",
            "Requirement already satisfied: entrypoints in /usr/local/lib/python3.7/dist-packages (from mlflow<=1.13.1->farm==0.7.1) (0.3)\n",
            "Requirement already satisfied: pyyaml in /usr/local/lib/python3.7/dist-packages (from mlflow<=1.13.1->farm==0.7.1) (3.13)\n",
            "Requirement already satisfied: pandas in /usr/local/lib/python3.7/dist-packages (from mlflow<=1.13.1->farm==0.7.1) (1.1.5)\n",
            "Collecting gitpython>=2.1.0\n",
            "\u001b[?25l  Downloading https://files.pythonhosted.org/packages/27/da/6f6224fdfc47dab57881fe20c0d1bc3122be290198ba0bf26a953a045d92/GitPython-3.1.17-py3-none-any.whl (166kB)\n",
            "\u001b[K     |████████████████████████████████| 174kB 56.4MB/s \n",
            "\u001b[?25hRequirement already satisfied: sqlparse>=0.3.1 in /usr/local/lib/python3.7/dist-packages (from mlflow<=1.13.1->farm==0.7.1) (0.4.1)\n",
            "Requirement already satisfied: cloudpickle in /usr/local/lib/python3.7/dist-packages (from mlflow<=1.13.1->farm==0.7.1) (1.3.0)\n",
            "Requirement already satisfied: python-dateutil in /usr/local/lib/python3.7/dist-packages (from mlflow<=1.13.1->farm==0.7.1) (2.8.1)\n",
            "Collecting gunicorn; platform_system != \"Windows\"\n",
            "\u001b[?25l  Downloading https://files.pythonhosted.org/packages/e4/dd/5b190393e6066286773a67dfcc2f9492058e9b57c4867a95f1ba5caf0a83/gunicorn-20.1.0-py3-none-any.whl (79kB)\n",
            "\u001b[K     |████████████████████████████████| 81kB 13.9MB/s \n",
            "\u001b[?25hCollecting docker>=4.0.0\n",
            "\u001b[?25l  Downloading https://files.pythonhosted.org/packages/b2/5a/f988909dfed18c1ac42ad8d9e611e6c5657e270aa6eb68559985dbb69c13/docker-5.0.0-py2.py3-none-any.whl (146kB)\n",
            "\u001b[K     |████████████████████████████████| 153kB 60.5MB/s \n",
            "\u001b[?25hCollecting querystring-parser\n",
            "  Downloading https://files.pythonhosted.org/packages/88/6b/572b2590fd55114118bf08bde63c0a421dcc82d593700f3e2ad89908a8a9/querystring_parser-1.2.4-py2.py3-none-any.whl\n",
            "Requirement already satisfied: protobuf>=3.6.0 in /usr/local/lib/python3.7/dist-packages (from mlflow<=1.13.1->farm==0.7.1) (3.12.4)\n",
            "Collecting databricks-cli>=0.8.7\n",
            "\u001b[?25l  Downloading https://files.pythonhosted.org/packages/bc/af/631375abc29e59cedfa4467a5f7755503ba19898890751e1f2636ef02f92/databricks-cli-0.14.3.tar.gz (54kB)\n",
            "\u001b[K     |████████████████████████████████| 61kB 9.5MB/s \n",
            "\u001b[?25hCollecting alembic<=1.4.1\n",
            "\u001b[?25l  Downloading https://files.pythonhosted.org/packages/e0/e9/359dbb77c35c419df0aedeb1d53e71e7e3f438ff64a8fdb048c907404de3/alembic-1.4.1.tar.gz (1.1MB)\n",
            "\u001b[K     |████████████████████████████████| 1.1MB 41.3MB/s \n",
            "\u001b[?25hCollecting azure-storage-blob>=12.0.0\n",
            "\u001b[?25l  Downloading https://files.pythonhosted.org/packages/01/e5/ff9609a85f71cd41d759307b9d385ace34d29378e4750d0a0240aad535cb/azure_storage_blob-12.8.1-py2.py3-none-any.whl (345kB)\n",
            "\u001b[K     |████████████████████████████████| 348kB 54.3MB/s \n",
            "\u001b[?25hRequirement already satisfied: sqlalchemy in /usr/local/lib/python3.7/dist-packages (from mlflow<=1.13.1->farm==0.7.1) (1.4.15)\n",
            "Requirement already satisfied: scikit-learn in /usr/local/lib/python3.7/dist-packages (from sklearn->farm==0.7.1) (0.22.2.post1)\n",
            "Requirement already satisfied: typing-extensions in /usr/local/lib/python3.7/dist-packages (from torch<1.8,>1.5->farm==0.7.1) (3.7.4.3)\n",
            "Requirement already satisfied: urllib3!=1.25.0,!=1.25.1,<1.26,>=1.21.1 in /usr/local/lib/python3.7/dist-packages (from requests->farm==0.7.1) (1.24.3)\n",
            "Requirement already satisfied: certifi>=2017.4.17 in /usr/local/lib/python3.7/dist-packages (from requests->farm==0.7.1) (2020.12.5)\n",
            "Requirement already satisfied: idna<3,>=2.5 in /usr/local/lib/python3.7/dist-packages (from requests->farm==0.7.1) (2.10)\n",
            "Requirement already satisfied: chardet<4,>=3.0.2 in /usr/local/lib/python3.7/dist-packages (from requests->farm==0.7.1) (3.0.4)\n",
            "Collecting jmespath<1.0.0,>=0.7.1\n",
            "  Downloading https://files.pythonhosted.org/packages/07/cb/5f001272b6faeb23c1c9e0acc04d48eaaf5c862c17709d20e3469c6e0139/jmespath-0.10.0-py2.py3-none-any.whl\n",
            "Collecting botocore<1.21.0,>=1.20.91\n",
            "\u001b[?25l  Downloading https://files.pythonhosted.org/packages/9c/8a/75eceb06b51a930bd295571b58bf5d68a04aaea2bb8751a33c404bbd7a1b/botocore-1.20.91-py2.py3-none-any.whl (7.6MB)\n",
            "\u001b[K     |████████████████████████████████| 7.6MB 42.6MB/s \n",
            "\u001b[?25hCollecting s3transfer<0.5.0,>=0.4.0\n",
            "\u001b[?25l  Downloading https://files.pythonhosted.org/packages/63/d0/693477c688348654ddc21dcdce0817653a294aa43f41771084c25e7ff9c7/s3transfer-0.4.2-py2.py3-none-any.whl (79kB)\n",
            "\u001b[K     |████████████████████████████████| 81kB 13.2MB/s \n",
            "\u001b[?25hRequirement already satisfied: pyparsing>=2.0.2 in /usr/local/lib/python3.7/dist-packages (from packaging->transformers==4.1.1->farm==0.7.1) (2.4.7)\n",
            "Requirement already satisfied: joblib in /usr/local/lib/python3.7/dist-packages (from sacremoses->transformers==4.1.1->farm==0.7.1) (1.0.1)\n",
            "Requirement already satisfied: MarkupSafe>=0.23 in /usr/local/lib/python3.7/dist-packages (from Jinja2<3.0,>=2.10.1->flask->farm==0.7.1) (2.0.1)\n",
            "Requirement already satisfied: prometheus_client in /usr/local/lib/python3.7/dist-packages (from prometheus-flask-exporter->mlflow<=1.13.1->farm==0.7.1) (0.10.1)\n",
            "Collecting gitdb<5,>=4.0.1\n",
            "\u001b[?25l  Downloading https://files.pythonhosted.org/packages/ea/e8/f414d1a4f0bbc668ed441f74f44c116d9816833a48bf81d22b697090dba8/gitdb-4.0.7-py3-none-any.whl (63kB)\n",
            "\u001b[K     |████████████████████████████████| 71kB 12.3MB/s \n",
            "\u001b[?25hCollecting websocket-client>=0.32.0\n",
            "\u001b[?25l  Downloading https://files.pythonhosted.org/packages/ca/5f/3c211d168b2e9f9342cfb53bcfc26aab0eac63b998015e7af7bcae66119d/websocket_client-1.1.0-py2.py3-none-any.whl (68kB)\n",
            "\u001b[K     |████████████████████████████████| 71kB 11.6MB/s \n",
            "\u001b[?25hRequirement already satisfied: tabulate>=0.7.7 in /usr/local/lib/python3.7/dist-packages (from databricks-cli>=0.8.7->mlflow<=1.13.1->farm==0.7.1) (0.8.9)\n",
            "Collecting Mako\n",
            "\u001b[?25l  Downloading https://files.pythonhosted.org/packages/f3/54/dbc07fbb20865d3b78fdb7cf7fa713e2cba4f87f71100074ef2dc9f9d1f7/Mako-1.1.4-py2.py3-none-any.whl (75kB)\n",
            "\u001b[K     |████████████████████████████████| 81kB 13.8MB/s \n",
            "\u001b[?25hCollecting python-editor>=0.3\n",
            "  Downloading https://files.pythonhosted.org/packages/c6/d3/201fc3abe391bbae6606e6f1d598c15d367033332bd54352b12f35513717/python_editor-1.0.4-py3-none-any.whl\n",
            "Collecting cryptography>=2.1.4\n",
            "\u001b[?25l  Downloading https://files.pythonhosted.org/packages/b2/26/7af637e6a7e87258b963f1731c5982fb31cd507f0d90d91836e446955d02/cryptography-3.4.7-cp36-abi3-manylinux2014_x86_64.whl (3.2MB)\n",
            "\u001b[K     |████████████████████████████████| 3.2MB 44.0MB/s \n",
            "\u001b[?25hCollecting azure-core<2.0.0,>=1.10.0\n",
            "\u001b[?25l  Downloading https://files.pythonhosted.org/packages/c7/2f/3d25c8dfea7c9bdf96142f019bfb47bd08dca3ce0eea6511fdeecf281e87/azure_core-1.15.0-py2.py3-none-any.whl (138kB)\n",
            "\u001b[K     |████████████████████████████████| 143kB 58.4MB/s \n",
            "\u001b[?25hCollecting msrest>=0.6.18\n",
            "\u001b[?25l  Downloading https://files.pythonhosted.org/packages/e8/cc/6c96bfb3d3cf4c3bdedfa6b46503223f4c2a4fa388377697e0f8082a4fed/msrest-0.6.21-py2.py3-none-any.whl (85kB)\n",
            "\u001b[K     |████████████████████████████████| 92kB 13.8MB/s \n",
            "\u001b[?25hRequirement already satisfied: greenlet!=0.4.17; python_version >= \"3\" in /usr/local/lib/python3.7/dist-packages (from sqlalchemy->mlflow<=1.13.1->farm==0.7.1) (1.1.0)\n",
            "Requirement already satisfied: importlib-metadata; python_version < \"3.8\" in /usr/local/lib/python3.7/dist-packages (from sqlalchemy->mlflow<=1.13.1->farm==0.7.1) (4.0.1)\n",
            "Collecting smmap<5,>=3.0.1\n",
            "  Downloading https://files.pythonhosted.org/packages/68/ee/d540eb5e5996eb81c26ceffac6ee49041d473bc5125f2aa995cf51ec1cf1/smmap-4.0.0-py2.py3-none-any.whl\n",
            "Requirement already satisfied: cffi>=1.12 in /usr/local/lib/python3.7/dist-packages (from cryptography>=2.1.4->azure-storage-blob>=12.0.0->mlflow<=1.13.1->farm==0.7.1) (1.14.5)\n",
            "Collecting isodate>=0.6.0\n",
            "\u001b[?25l  Downloading https://files.pythonhosted.org/packages/9b/9f/b36f7774ff5ea8e428fdcfc4bb332c39ee5b9362ddd3d40d9516a55221b2/isodate-0.6.0-py2.py3-none-any.whl (45kB)\n",
            "\u001b[K     |████████████████████████████████| 51kB 8.8MB/s \n",
            "\u001b[?25hRequirement already satisfied: requests-oauthlib>=0.5.0 in /usr/local/lib/python3.7/dist-packages (from msrest>=0.6.18->azure-storage-blob>=12.0.0->mlflow<=1.13.1->farm==0.7.1) (1.3.0)\n",
            "Requirement already satisfied: zipp>=0.5 in /usr/local/lib/python3.7/dist-packages (from importlib-metadata; python_version < \"3.8\"->sqlalchemy->mlflow<=1.13.1->farm==0.7.1) (3.4.1)\n",
            "Requirement already satisfied: pycparser in /usr/local/lib/python3.7/dist-packages (from cffi>=1.12->cryptography>=2.1.4->azure-storage-blob>=12.0.0->mlflow<=1.13.1->farm==0.7.1) (2.20)\n",
            "Requirement already satisfied: oauthlib>=3.0.0 in /usr/local/lib/python3.7/dist-packages (from requests-oauthlib>=0.5.0->msrest>=0.6.18->azure-storage-blob>=12.0.0->mlflow<=1.13.1->farm==0.7.1) (3.1.0)\n",
            "Building wheels for collected packages: seqeval, prometheus-flask-exporter, databricks-cli, alembic\n",
            "  Building wheel for seqeval (setup.py) ... \u001b[?25l\u001b[?25hdone\n",
            "  Created wheel for seqeval: filename=seqeval-1.2.2-cp37-none-any.whl size=16184 sha256=4e735227e42d10d918a25fa2d41c276af5d71fa188a88d2187c2869d6fd06aca\n",
            "  Stored in directory: /root/.cache/pip/wheels/52/df/1b/45d75646c37428f7e626214704a0e35bd3cfc32eda37e59e5f\n",
            "  Building wheel for prometheus-flask-exporter (setup.py) ... \u001b[?25l\u001b[?25hdone\n",
            "  Created wheel for prometheus-flask-exporter: filename=prometheus_flask_exporter-0.18.2-cp37-none-any.whl size=17415 sha256=71d1a8e7b8cb7ea56f53f2e8f5c31808b6d32c891e2019fc4d5e54ddc283d4bb\n",
            "  Stored in directory: /root/.cache/pip/wheels/c0/e2/9c/4f3ee23964802940f81a8b476d0b9be6fb6348cb12df2e2226\n",
            "  Building wheel for databricks-cli (setup.py) ... \u001b[?25l\u001b[?25hdone\n",
            "  Created wheel for databricks-cli: filename=databricks_cli-0.14.3-cp37-none-any.whl size=100560 sha256=43fa052d3b9008b7edbe97e914cd5421d3f018535d42aa47067989447b231271\n",
            "  Stored in directory: /root/.cache/pip/wheels/5b/24/f3/34d8e3964dac4ba849d844273c49a679111b00d5799ebb934a\n",
            "  Building wheel for alembic (setup.py) ... \u001b[?25l\u001b[?25hdone\n",
            "  Created wheel for alembic: filename=alembic-1.4.1-py2.py3-none-any.whl size=158170 sha256=b870f3a773ba3d3cb3bc9427b19fd45f6e7009b46063263e40b16f624d9afb87\n",
            "  Stored in directory: /root/.cache/pip/wheels/84/07/f7/12f7370ca47a66030c2edeedcc23dec26ea0ac22dcb4c4a0f3\n",
            "Successfully built seqeval prometheus-flask-exporter databricks-cli alembic\n",
            "\u001b[31mERROR: torchvision 0.9.1+cu101 has requirement torch==1.8.1, but you'll have torch 1.7.1 which is incompatible.\u001b[0m\n",
            "\u001b[31mERROR: torchtext 0.9.1 has requirement torch==1.8.1, but you'll have torch 1.7.1 which is incompatible.\u001b[0m\n",
            "\u001b[31mERROR: botocore 1.20.91 has requirement urllib3<1.27,>=1.25.4, but you'll have urllib3 1.24.3 which is incompatible.\u001b[0m\n",
            "Installing collected packages: sacremoses, tokenizers, transformers, flask-cors, dotmap, aniso8601, flask-restplus, prometheus-flask-exporter, smmap, gitdb, gitpython, gunicorn, websocket-client, docker, querystring-parser, databricks-cli, Mako, python-editor, alembic, cryptography, azure-core, isodate, msrest, azure-storage-blob, mlflow, Werkzeug, sentencepiece, torch, jmespath, botocore, s3transfer, boto3, seqeval, farm\n",
            "  Found existing installation: Werkzeug 1.0.1\n",
            "    Uninstalling Werkzeug-1.0.1:\n",
            "      Successfully uninstalled Werkzeug-1.0.1\n",
            "  Found existing installation: torch 1.8.1+cu101\n",
            "    Uninstalling torch-1.8.1+cu101:\n",
            "      Successfully uninstalled torch-1.8.1+cu101\n",
            "Successfully installed Mako-1.1.4 Werkzeug-0.16.1 alembic-1.4.1 aniso8601-9.0.1 azure-core-1.15.0 azure-storage-blob-12.8.1 boto3-1.17.91 botocore-1.20.91 cryptography-3.4.7 databricks-cli-0.14.3 docker-5.0.0 dotmap-1.3.23 farm-0.7.1 flask-cors-3.0.10 flask-restplus-0.13.0 gitdb-4.0.7 gitpython-3.1.17 gunicorn-20.1.0 isodate-0.6.0 jmespath-0.10.0 mlflow-1.13.1 msrest-0.6.21 prometheus-flask-exporter-0.18.2 python-editor-1.0.4 querystring-parser-1.2.4 s3transfer-0.4.2 sacremoses-0.0.45 sentencepiece-0.1.95 seqeval-1.2.2 smmap-4.0.0 tokenizers-0.9.4 torch-1.7.1 transformers-4.1.1 websocket-client-1.1.0\n"
          ],
          "name": "stdout"
        }
      ]
    },
    {
      "cell_type": "code",
      "metadata": {
        "id": "y6RKA1bxkKij",
        "colab": {
          "base_uri": "https://localhost:8080/"
        },
        "outputId": "2058fdb3-8d3c-433d-c490-6a447c834565"
      },
      "source": [
        "# Here are the imports we need\n",
        "\n",
        "import torch\n",
        "from farm.modeling.tokenization import Tokenizer\n",
        "from farm.data_handler.processor import TextClassificationProcessor\n",
        "from farm.data_handler.data_silo import DataSilo\n",
        "from farm.modeling.language_model import LanguageModel\n",
        "from farm.modeling.prediction_head import TextClassificationHead\n",
        "from farm.modeling.adaptive_model import AdaptiveModel\n",
        "from farm.modeling.optimization import initialize_optimizer\n",
        "from farm.train import Trainer\n",
        "from farm.utils import MLFlowLogger\n"
      ],
      "execution_count": 2,
      "outputs": [
        {
          "output_type": "stream",
          "text": [
            "06/10/2021 16:06:29 - INFO - farm.modeling.prediction_head -   Better speed can be achieved with apex installed from https://www.github.com/nvidia/apex .\n"
          ],
          "name": "stderr"
        }
      ]
    },
    {
      "cell_type": "code",
      "metadata": {
        "id": "XL-on42YOWwC",
        "colab": {
          "base_uri": "https://localhost:8080/"
        },
        "outputId": "77da09c7-abd1-447e-f134-3444e805f5f6"
      },
      "source": [
        "# Farm allows simple logging of many parameters & metrics. Let's use the MLflow framework to track our experiment ...\n",
        "# You will see your results on https://public-mlflow.deepset.ai/\n",
        "ml_logger = MLFlowLogger(tracking_uri=\"https://public-mlflow.deepset.ai/\")\n",
        "ml_logger.init_experiment(experiment_name=\"Public_FARM\", run_name=\"Tutorial1_Colab\")\n"
      ],
      "execution_count": null,
      "outputs": [
        {
          "output_type": "stream",
          "text": [
            "\n",
            " __          __  _                            _        \n",
            " \\ \\        / / | |                          | |       \n",
            "  \\ \\  /\\  / /__| | ___ ___  _ __ ___   ___  | |_ ___  \n",
            "   \\ \\/  \\/ / _ \\ |/ __/ _ \\| '_ ` _ \\ / _ \\ | __/ _ \\ \n",
            "    \\  /\\  /  __/ | (_| (_) | | | | | |  __/ | || (_) |\n",
            "     \\/  \\/ \\___|_|\\___\\___/|_| |_| |_|\\___|  \\__\\___/ \n",
            "  ______      _____  __  __  \n",
            " |  ____/\\   |  __ \\|  \\/  |              _.-^-._    .--.\n",
            " | |__ /  \\  | |__) | \\  / |           .-'   _   '-. |__|\n",
            " |  __/ /\\ \\ |  _  /| |\\/| |          /     |_|     \\|  |\n",
            " | | / ____ \\| | \\ \\| |  | |         /               \\  |\n",
            " |_|/_/    \\_\\_|  \\_\\_|  |_|        /|     _____     |\\ |\n",
            "                                     |    |==|==|    |  |\n",
            "|---||---|---|---|---|---|---|---|---|    |--|--|    |  |\n",
            "|---||---|---|---|---|---|---|---|---|    |==|==|    |  |\n",
            "^^^^^^^^^^^^^^^^^^^^^^^^^^^^^^^^^^^^^^^^^^^^^^^^^^^^^^^^^\n",
            " \n"
          ],
          "name": "stdout"
        }
      ]
    },
    {
      "cell_type": "code",
      "metadata": {
        "id": "l6uTw7w3kPcJ",
        "colab": {
          "base_uri": "https://localhost:8080/"
        },
        "outputId": "544af11c-19d1-4a80-c81f-805dec831601"
      },
      "source": [
        "# We need to fetch the right device to drive the growth of our model\n",
        "# Make sure that you have gpu turned on in this notebook by going to\n",
        "# Runtime>Change runtime type and select GPU as Hardware accelerator.\n",
        "\n",
        "device = torch.device(\"cuda\" if torch.cuda.is_available() else \"cpu\")\n",
        "print(\"Devices available: {}\".format(device))"
      ],
      "execution_count": 3,
      "outputs": [
        {
          "output_type": "stream",
          "text": [
            "Devices available: cuda\n"
          ],
          "name": "stdout"
        }
      ]
    },
    {
      "cell_type": "markdown",
      "metadata": {
        "id": "cPogG9KLk-Mv"
      },
      "source": [
        "### Data Handling"
      ]
    },
    {
      "cell_type": "code",
      "metadata": {
        "id": "T-2k0Zock2J5",
        "colab": {
          "base_uri": "https://localhost:8080/",
          "height": 307,
          "referenced_widgets": [
            "dd518797aa4e44d6ba0c339c8e5feae0",
            "168ce0b0d2294c028a6160d1dccfe44b",
            "71cb494933a447108dc36a8d3701e55f",
            "a17dc933580b41dbb33f4ce878afc95f",
            "8216e59ff0ba4a878bc9b9f16050c087",
            "982dacb2e958402396399e9ab403b474",
            "b65e960ba74145c582e1fe393e263487",
            "00ad043f22b94378b43c14437257f418",
            "235cc859dc7e4c2cbaa3c753155f4ae2",
            "c6f57d862c474090860bae3cf90c6c38",
            "abc598ff051a44999b53ec78fe2c4edb",
            "87b62748fec3455cb219414d1cef8a0d",
            "35bdb24dff7b44eebdd6c3baeca71206",
            "37ad4d19f9394859866c4136d60c6426",
            "9b245d4a20374d2c8c6bd221b6e52905",
            "40bd9e2af2394bce9ffa6071f902e6ba",
            "cf0ecfbaa9864c0086b1ebf292a2ecf0",
            "b21934428e6b45b6a66d94affe176685",
            "5503e0656bd24d6bb12ceaff68f30c42",
            "4a1444bedb2b4e8a921ebaf76509888f",
            "53a4c7f2ad27418ab7f512eda4fa589b",
            "c8adcb742fac4bb48a8f48a4bdd37549",
            "24fba6ee970c441d850879ebcd1daab2",
            "8ec96e0521584293ab622cbe2e444f51"
          ]
        },
        "outputId": "19a8bc92-3d30-451e-992e-637ef017f59e"
      },
      "source": [
        "# Here we initialize a tokenizer that will be used for preprocessing text\n",
        "# This is the BERT Tokenizer which uses the byte pair encoding method.\n",
        "# It is currently loaded with a German model\n",
        "\n",
        "tokenizer = Tokenizer.load(\n",
        "    pretrained_model_name_or_path=\"bert-base-cased\",\n",
        "    do_lower_case=False)"
      ],
      "execution_count": 4,
      "outputs": [
        {
          "output_type": "stream",
          "text": [
            "06/10/2021 16:16:22 - INFO - filelock -   Lock 140425683591888 acquired on /root/.cache/huggingface/transformers/a803e0468a8fe090683bdc453f4fac622804f49de86d7cecaee92365d4a0f829.a64a22196690e0e82ead56f388a3ef3a50de93335926ccfa20610217db589307.lock\n"
          ],
          "name": "stderr"
        },
        {
          "output_type": "display_data",
          "data": {
            "application/vnd.jupyter.widget-view+json": {
              "model_id": "dd518797aa4e44d6ba0c339c8e5feae0",
              "version_minor": 0,
              "version_major": 2
            },
            "text/plain": [
              "HBox(children=(FloatProgress(value=0.0, description='Downloading', max=570.0, style=ProgressStyle(description_…"
            ]
          },
          "metadata": {
            "tags": []
          }
        },
        {
          "output_type": "stream",
          "text": [
            "06/10/2021 16:16:23 - INFO - filelock -   Lock 140425683591888 released on /root/.cache/huggingface/transformers/a803e0468a8fe090683bdc453f4fac622804f49de86d7cecaee92365d4a0f829.a64a22196690e0e82ead56f388a3ef3a50de93335926ccfa20610217db589307.lock\n",
            "06/10/2021 16:16:23 - INFO - farm.modeling.tokenization -   Loading tokenizer of type 'BertTokenizer'\n"
          ],
          "name": "stderr"
        },
        {
          "output_type": "stream",
          "text": [
            "\n"
          ],
          "name": "stdout"
        },
        {
          "output_type": "stream",
          "text": [
            "06/10/2021 16:16:23 - INFO - filelock -   Lock 140425759978896 acquired on /root/.cache/huggingface/transformers/6508e60ab3c1200bffa26c95f4b58ac6b6d95fba4db1f195f632fa3cd7bc64cc.437aa611e89f6fc6675a049d2b5545390adbc617e7d655286421c191d2be2791.lock\n"
          ],
          "name": "stderr"
        },
        {
          "output_type": "display_data",
          "data": {
            "application/vnd.jupyter.widget-view+json": {
              "model_id": "235cc859dc7e4c2cbaa3c753155f4ae2",
              "version_minor": 0,
              "version_major": 2
            },
            "text/plain": [
              "HBox(children=(FloatProgress(value=0.0, description='Downloading', max=213450.0, style=ProgressStyle(descripti…"
            ]
          },
          "metadata": {
            "tags": []
          }
        },
        {
          "output_type": "stream",
          "text": [
            "06/10/2021 16:16:24 - INFO - filelock -   Lock 140425759978896 released on /root/.cache/huggingface/transformers/6508e60ab3c1200bffa26c95f4b58ac6b6d95fba4db1f195f632fa3cd7bc64cc.437aa611e89f6fc6675a049d2b5545390adbc617e7d655286421c191d2be2791.lock\n"
          ],
          "name": "stderr"
        },
        {
          "output_type": "stream",
          "text": [
            "\n"
          ],
          "name": "stdout"
        },
        {
          "output_type": "stream",
          "text": [
            "06/10/2021 16:16:24 - INFO - filelock -   Lock 140425761828176 acquired on /root/.cache/huggingface/transformers/226a307193a9f4344264cdc76a12988448a25345ba172f2c7421f3b6810fddad.3dab63143af66769bbb35e3811f75f7e16b2320e12b7935e216bd6159ce6d9a6.lock\n"
          ],
          "name": "stderr"
        },
        {
          "output_type": "display_data",
          "data": {
            "application/vnd.jupyter.widget-view+json": {
              "model_id": "cf0ecfbaa9864c0086b1ebf292a2ecf0",
              "version_minor": 0,
              "version_major": 2
            },
            "text/plain": [
              "HBox(children=(FloatProgress(value=0.0, description='Downloading', max=435797.0, style=ProgressStyle(descripti…"
            ]
          },
          "metadata": {
            "tags": []
          }
        },
        {
          "output_type": "stream",
          "text": [
            "06/10/2021 16:16:24 - INFO - filelock -   Lock 140425761828176 released on /root/.cache/huggingface/transformers/226a307193a9f4344264cdc76a12988448a25345ba172f2c7421f3b6810fddad.3dab63143af66769bbb35e3811f75f7e16b2320e12b7935e216bd6159ce6d9a6.lock\n"
          ],
          "name": "stderr"
        },
        {
          "output_type": "stream",
          "text": [
            "\n"
          ],
          "name": "stdout"
        }
      ]
    },
    {
      "cell_type": "markdown",
      "metadata": {
        "id": "fDz4oYK2xWG4"
      },
      "source": [
        "Now you need to add the \"train.tsv\" and \"test.tsv\" files in the \"Files\" console: \n",
        "   \n",
        "![Screenshot 2021-06-10 at 18-35-30 Google Colaboratory.png](data:image/png;base64,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)"
      ]
    },
    {
      "cell_type": "code",
      "metadata": {
        "id": "08ycfnEIlJa4"
      },
      "source": [
        "# In order to prepare the data for the model, we need a set of\n",
        "# functions to transform data files into PyTorch Datasets.\n",
        "# We group these together in Processor objects.\n",
        "# We will need a new Processor object for each new source of data.\n",
        "# The abstract class can be found in farm.data_handling.processor.Processor\n",
        "\n",
        "LABEL_LIST = [\"Positive\", \"Negative\", \"Neutral\"]\n",
        "processor = TextClassificationProcessor(tokenizer=tokenizer,\n",
        "                                        max_seq_len=128,\n",
        "                                        data_dir=\".\",\n",
        "                                        label_list=LABEL_LIST,\n",
        "                                        metric=\"f1_macro\",\n",
        "                                        label_column_name=\"coarse_label\")"
      ],
      "execution_count": 5,
      "outputs": []
    },
    {
      "cell_type": "code",
      "metadata": {
        "id": "zds83m5klLW8",
        "colab": {
          "base_uri": "https://localhost:8080/"
        },
        "outputId": "dc2e5f9b-8e85-4a86-cf1e-90451e3a60ed"
      },
      "source": [
        "# We need a DataSilo in order to keep our train, dev and test sets separate.\n",
        "# The DataSilo will call the functions in the Processor to generate these sets.\n",
        "# From the DataSilo, we can fetch a PyTorch DataLoader object which will\n",
        "# be passed on to the model.\n",
        "# Here is a good place to define a batch size for the model\n",
        "\n",
        "BATCH_SIZE = 32\n",
        "\n",
        "data_silo = DataSilo(\n",
        "    processor=processor,\n",
        "    batch_size=BATCH_SIZE)"
      ],
      "execution_count": 6,
      "outputs": [
        {
          "output_type": "stream",
          "text": [
            "06/10/2021 16:25:45 - INFO - farm.data_handler.data_silo -   \n",
            "Loading data into the data silo ... \n",
            "              ______\n",
            "               |o  |   !\n",
            "   __          |:`_|---'-.\n",
            "  |__|______.-/ _ \\-----.|       \n",
            " (o)(o)------'\\ _ /     ( )      \n",
            " \n",
            "06/10/2021 16:25:45 - INFO - farm.data_handler.data_silo -   LOADING TRAIN DATA\n",
            "06/10/2021 16:25:45 - INFO - farm.data_handler.data_silo -   ==================\n",
            "06/10/2021 16:25:45 - INFO - farm.data_handler.data_silo -   Loading train set from: train.tsv \n",
            "06/10/2021 16:25:45 - INFO - farm.data_handler.data_silo -   Got ya 2 parallel workers to convert 2156 dictionaries to pytorch datasets (chunksize = 216)...\n",
            "06/10/2021 16:25:45 - INFO - farm.data_handler.data_silo -    0    0 \n",
            "06/10/2021 16:25:45 - INFO - farm.data_handler.data_silo -   /w\\  /w\\\n",
            "06/10/2021 16:25:45 - INFO - farm.data_handler.data_silo -   /'\\  /'\\\n",
            "06/10/2021 16:25:45 - INFO - farm.data_handler.data_silo -     \n",
            "Preprocessing Dataset train.tsv:   0%|          | 0/2156 [00:00<?, ? Dicts/s]06/10/2021 16:25:45 - INFO - farm.data_handler.processor -   *** Show 1 random examples ***\n",
            "06/10/2021 16:25:45 - INFO - farm.data_handler.processor -   \n",
            "\n",
            "      .--.        _____                       _      \n",
            "    .'_\\/_'.     / ____|                     | |     \n",
            "    '. /\\ .'    | (___   __ _ _ __ ___  _ __ | | ___ \n",
            "      \"||\"       \\___ \\ / _` | '_ ` _ \\| '_ \\| |/ _ \\ \n",
            "       || /\\     ____) | (_| | | | | | | |_) | |  __/\n",
            "    /\\ ||//\\)   |_____/ \\__,_|_| |_| |_| .__/|_|\\___|\n",
            "   (/\\||/                             |_|           \n",
            "______\\||/___________________________________________                     \n",
            "\n",
            "ID: None\n",
            "Clear Text: \n",
            " \ttext: Any known danger he could face with a firm lip, but this suspense was unnerving.\n",
            " \ttext_classification_label: Positive\n",
            "Tokenized: \n",
            " \tNone\n",
            "Features: \n",
            " \tinput_ids: [101, 6291, 1227, 5170, 1119, 1180, 1339, 1114, 170, 3016, 4764, 117, 1133, 1142, 28117, 21643, 1108, 8362, 2511, 3970, 119, 102, 0, 0, 0, 0, 0, 0, 0, 0, 0, 0, 0, 0, 0, 0, 0, 0, 0, 0, 0, 0, 0, 0, 0, 0, 0, 0, 0, 0, 0, 0, 0, 0, 0, 0, 0, 0, 0, 0, 0, 0, 0, 0, 0, 0, 0, 0, 0, 0, 0, 0, 0, 0, 0, 0, 0, 0, 0, 0, 0, 0, 0, 0, 0, 0, 0, 0, 0, 0, 0, 0, 0, 0, 0, 0, 0, 0, 0, 0, 0, 0, 0, 0, 0, 0, 0, 0, 0, 0, 0, 0, 0, 0, 0, 0, 0, 0, 0, 0, 0, 0, 0, 0, 0, 0, 0, 0]\n",
            " \tpadding_mask: [1, 1, 1, 1, 1, 1, 1, 1, 1, 1, 1, 1, 1, 1, 1, 1, 1, 1, 1, 1, 1, 1, 0, 0, 0, 0, 0, 0, 0, 0, 0, 0, 0, 0, 0, 0, 0, 0, 0, 0, 0, 0, 0, 0, 0, 0, 0, 0, 0, 0, 0, 0, 0, 0, 0, 0, 0, 0, 0, 0, 0, 0, 0, 0, 0, 0, 0, 0, 0, 0, 0, 0, 0, 0, 0, 0, 0, 0, 0, 0, 0, 0, 0, 0, 0, 0, 0, 0, 0, 0, 0, 0, 0, 0, 0, 0, 0, 0, 0, 0, 0, 0, 0, 0, 0, 0, 0, 0, 0, 0, 0, 0, 0, 0, 0, 0, 0, 0, 0, 0, 0, 0, 0, 0, 0, 0, 0, 0]\n",
            " \tsegment_ids: [0, 0, 0, 0, 0, 0, 0, 0, 0, 0, 0, 0, 0, 0, 0, 0, 0, 0, 0, 0, 0, 0, 0, 0, 0, 0, 0, 0, 0, 0, 0, 0, 0, 0, 0, 0, 0, 0, 0, 0, 0, 0, 0, 0, 0, 0, 0, 0, 0, 0, 0, 0, 0, 0, 0, 0, 0, 0, 0, 0, 0, 0, 0, 0, 0, 0, 0, 0, 0, 0, 0, 0, 0, 0, 0, 0, 0, 0, 0, 0, 0, 0, 0, 0, 0, 0, 0, 0, 0, 0, 0, 0, 0, 0, 0, 0, 0, 0, 0, 0, 0, 0, 0, 0, 0, 0, 0, 0, 0, 0, 0, 0, 0, 0, 0, 0, 0, 0, 0, 0, 0, 0, 0, 0, 0, 0, 0, 0]\n",
            " \ttext_classification_label_ids: [0]\n",
            "_____________________________________________________\n",
            "06/10/2021 16:25:45 - WARNING - farm.data_handler.processor -   Currently no support in Processor for returning problematic ids\n",
            "06/10/2021 16:25:45 - WARNING - farm.data_handler.processor -   Currently no support in Processor for returning problematic ids\n",
            "Preprocessing Dataset train.tsv:  10%|█         | 216/2156 [00:00<00:01, 1649.58 Dicts/s]06/10/2021 16:25:45 - WARNING - farm.data_handler.processor -   Currently no support in Processor for returning problematic ids\n",
            "06/10/2021 16:25:45 - WARNING - farm.data_handler.processor -   Currently no support in Processor for returning problematic ids\n",
            "06/10/2021 16:25:45 - WARNING - farm.data_handler.processor -   Currently no support in Processor for returning problematic ids\n",
            "06/10/2021 16:25:45 - WARNING - farm.data_handler.processor -   Currently no support in Processor for returning problematic ids\n",
            "Preprocessing Dataset train.tsv:  50%|█████     | 1080/2156 [00:00<00:00, 2054.56 Dicts/s]06/10/2021 16:25:46 - WARNING - farm.data_handler.processor -   Currently no support in Processor for returning problematic ids\n",
            "06/10/2021 16:25:46 - WARNING - farm.data_handler.processor -   Currently no support in Processor for returning problematic ids\n",
            "06/10/2021 16:25:46 - WARNING - farm.data_handler.processor -   Currently no support in Processor for returning problematic ids\n",
            "06/10/2021 16:25:46 - WARNING - farm.data_handler.processor -   Currently no support in Processor for returning problematic ids\n",
            "Preprocessing Dataset train.tsv: 100%|██████████| 2156/2156 [00:00<00:00, 5033.01 Dicts/s]\n",
            "06/10/2021 16:25:46 - INFO - farm.data_handler.data_silo -   \n",
            "06/10/2021 16:25:46 - INFO - farm.data_handler.data_silo -   LOADING DEV DATA\n",
            "06/10/2021 16:25:46 - INFO - farm.data_handler.data_silo -   =================\n",
            "06/10/2021 16:25:46 - INFO - farm.data_handler.data_silo -   Loading dev set as a slice of train set\n",
            "06/10/2021 16:25:46 - INFO - farm.data_handler.data_silo -   Took 428 samples out of train set to create dev set (dev split is roughly 0.1)\n",
            "06/10/2021 16:25:46 - INFO - farm.data_handler.data_silo -   \n",
            "06/10/2021 16:25:46 - INFO - farm.data_handler.data_silo -   LOADING TEST DATA\n",
            "06/10/2021 16:25:46 - INFO - farm.data_handler.data_silo -   =================\n",
            "06/10/2021 16:25:46 - INFO - farm.data_handler.data_silo -   Loading test set from: test.tsv\n",
            "06/10/2021 16:25:46 - INFO - farm.data_handler.data_silo -   Got ya 2 parallel workers to convert 540 dictionaries to pytorch datasets (chunksize = 54)...\n",
            "06/10/2021 16:25:46 - INFO - farm.data_handler.data_silo -    0    0 \n",
            "06/10/2021 16:25:46 - INFO - farm.data_handler.data_silo -   /w\\  /|\\\n",
            "06/10/2021 16:25:46 - INFO - farm.data_handler.data_silo -   /'\\  /'\\\n",
            "06/10/2021 16:25:46 - INFO - farm.data_handler.data_silo -     \n",
            "Preprocessing Dataset test.tsv:   0%|          | 0/540 [00:00<?, ? Dicts/s]06/10/2021 16:25:46 - INFO - farm.data_handler.processor -   *** Show 1 random examples ***\n",
            "06/10/2021 16:25:46 - INFO - farm.data_handler.processor -   \n",
            "\n",
            "      .--.        _____                       _      \n",
            "    .'_\\/_'.     / ____|                     | |     \n",
            "    '. /\\ .'    | (___   __ _ _ __ ___  _ __ | | ___ \n",
            "      \"||\"       \\___ \\ / _` | '_ ` _ \\| '_ \\| |/ _ \\ \n",
            "       || /\\     ____) | (_| | | | | | | |_) | |  __/\n",
            "    /\\ ||//\\)   |_____/ \\__,_|_| |_| |_| .__/|_|\\___|\n",
            "   (/\\||/                             |_|           \n",
            "______\\||/___________________________________________                     \n",
            "\n",
            "ID: None\n",
            "Clear Text: \n",
            " \ttext: From the great inland sea to the distant Wahsatch Mountains there was no name better known than that of John Ferrier.\n",
            " \ttext_classification_label: Positive\n",
            "Tokenized: \n",
            " \tNone\n",
            "Features: \n",
            " \tinput_ids: [101, 1622, 1103, 1632, 11054, 2343, 1106, 1103, 6531, 160, 3354, 28027, 1732, 5249, 1175, 1108, 1185, 1271, 1618, 1227, 1190, 1115, 1104, 1287, 11907, 20133, 119, 102, 0, 0, 0, 0, 0, 0, 0, 0, 0, 0, 0, 0, 0, 0, 0, 0, 0, 0, 0, 0, 0, 0, 0, 0, 0, 0, 0, 0, 0, 0, 0, 0, 0, 0, 0, 0, 0, 0, 0, 0, 0, 0, 0, 0, 0, 0, 0, 0, 0, 0, 0, 0, 0, 0, 0, 0, 0, 0, 0, 0, 0, 0, 0, 0, 0, 0, 0, 0, 0, 0, 0, 0, 0, 0, 0, 0, 0, 0, 0, 0, 0, 0, 0, 0, 0, 0, 0, 0, 0, 0, 0, 0, 0, 0, 0, 0, 0, 0, 0, 0]\n",
            " \tpadding_mask: [1, 1, 1, 1, 1, 1, 1, 1, 1, 1, 1, 1, 1, 1, 1, 1, 1, 1, 1, 1, 1, 1, 1, 1, 1, 1, 1, 1, 0, 0, 0, 0, 0, 0, 0, 0, 0, 0, 0, 0, 0, 0, 0, 0, 0, 0, 0, 0, 0, 0, 0, 0, 0, 0, 0, 0, 0, 0, 0, 0, 0, 0, 0, 0, 0, 0, 0, 0, 0, 0, 0, 0, 0, 0, 0, 0, 0, 0, 0, 0, 0, 0, 0, 0, 0, 0, 0, 0, 0, 0, 0, 0, 0, 0, 0, 0, 0, 0, 0, 0, 0, 0, 0, 0, 0, 0, 0, 0, 0, 0, 0, 0, 0, 0, 0, 0, 0, 0, 0, 0, 0, 0, 0, 0, 0, 0, 0, 0]\n",
            " \tsegment_ids: [0, 0, 0, 0, 0, 0, 0, 0, 0, 0, 0, 0, 0, 0, 0, 0, 0, 0, 0, 0, 0, 0, 0, 0, 0, 0, 0, 0, 0, 0, 0, 0, 0, 0, 0, 0, 0, 0, 0, 0, 0, 0, 0, 0, 0, 0, 0, 0, 0, 0, 0, 0, 0, 0, 0, 0, 0, 0, 0, 0, 0, 0, 0, 0, 0, 0, 0, 0, 0, 0, 0, 0, 0, 0, 0, 0, 0, 0, 0, 0, 0, 0, 0, 0, 0, 0, 0, 0, 0, 0, 0, 0, 0, 0, 0, 0, 0, 0, 0, 0, 0, 0, 0, 0, 0, 0, 0, 0, 0, 0, 0, 0, 0, 0, 0, 0, 0, 0, 0, 0, 0, 0, 0, 0, 0, 0, 0, 0]\n",
            " \ttext_classification_label_ids: [0]\n",
            "_____________________________________________________\n",
            "06/10/2021 16:25:46 - WARNING - farm.data_handler.processor -   Currently no support in Processor for returning problematic ids\n",
            "06/10/2021 16:25:46 - WARNING - farm.data_handler.processor -   Currently no support in Processor for returning problematic ids\n",
            "06/10/2021 16:25:46 - WARNING - farm.data_handler.processor -   Currently no support in Processor for returning problematic ids\n",
            "Preprocessing Dataset test.tsv:  10%|█         | 54/540 [00:00<00:00, 498.51 Dicts/s]06/10/2021 16:25:46 - WARNING - farm.data_handler.processor -   Currently no support in Processor for returning problematic ids\n",
            "06/10/2021 16:25:46 - WARNING - farm.data_handler.processor -   Currently no support in Processor for returning problematic ids\n",
            "06/10/2021 16:25:46 - WARNING - farm.data_handler.processor -   Currently no support in Processor for returning problematic ids\n",
            "06/10/2021 16:25:46 - WARNING - farm.data_handler.processor -   Currently no support in Processor for returning problematic ids\n",
            "06/10/2021 16:25:46 - WARNING - farm.data_handler.processor -   Currently no support in Processor for returning problematic ids\n",
            "Preprocessing Dataset test.tsv:  70%|███████   | 378/540 [00:00<00:00, 658.24 Dicts/s]06/10/2021 16:25:46 - WARNING - farm.data_handler.processor -   Currently no support in Processor for returning problematic ids\n",
            "06/10/2021 16:25:46 - WARNING - farm.data_handler.processor -   Currently no support in Processor for returning problematic ids\n",
            "Preprocessing Dataset test.tsv: 100%|██████████| 540/540 [00:00<00:00, 1929.26 Dicts/s]\n",
            "06/10/2021 16:25:46 - INFO - farm.data_handler.data_silo -   \n",
            "06/10/2021 16:25:46 - INFO - farm.data_handler.data_silo -   DATASETS SUMMARY\n",
            "06/10/2021 16:25:46 - INFO - farm.data_handler.data_silo -   ================\n",
            "06/10/2021 16:25:46 - INFO - farm.data_handler.data_silo -   Examples in train: 1728\n",
            "06/10/2021 16:25:46 - INFO - farm.data_handler.data_silo -   Examples in dev  : 428\n",
            "06/10/2021 16:25:46 - INFO - farm.data_handler.data_silo -   Examples in test : 540\n",
            "06/10/2021 16:25:46 - INFO - farm.data_handler.data_silo -   \n",
            "06/10/2021 16:25:46 - INFO - farm.data_handler.data_silo -   Longest sequence length observed after clipping:     85\n",
            "06/10/2021 16:25:46 - INFO - farm.data_handler.data_silo -   Average sequence length after clipping: 23.17997685185185\n",
            "06/10/2021 16:25:46 - INFO - farm.data_handler.data_silo -   Proportion clipped:      0.0\n"
          ],
          "name": "stderr"
        }
      ]
    },
    {
      "cell_type": "markdown",
      "metadata": {
        "id": "YG8toIFclN2F"
      },
      "source": [
        "### Modeling"
      ]
    },
    {
      "cell_type": "markdown",
      "metadata": {
        "id": "Cw4CJvz5lRbj"
      },
      "source": [
        "In FARM, we make a strong distinction between the language model and prediction head so that you can mix and match different building blocks for your needs.\n",
        "\n",
        "For example, in the transfer learning paradigm, you might have the one language model that you will be using for both document classification and NER. Or perhaps you have a pretrained language model which you would like to adapt to your domain, then use it for a downstream task such as question answering. \n",
        "\n",
        "All this is possible within FARM and requires only the replacement of a few modular components, as we shall see below.\n",
        "\n",
        "Let's first have a look at how we might set up a model."
      ]
    },
    {
      "cell_type": "code",
      "metadata": {
        "id": "K4TaqNaTlVmm",
        "colab": {
          "base_uri": "https://localhost:8080/",
          "height": 225,
          "referenced_widgets": [
            "e24838a603be4170899aae7114d138f5",
            "99e0bbc7b51c4e6496376ed0f9eba94c",
            "682bf734b1c246ca9cc8d63a1568dbf2",
            "400932a5d2f24acb95a4a730542c7582",
            "750ce408eec74e71ac92ce49206b1c6a",
            "773fd9225a464bd1acf883da244130d2",
            "8c39b713388c470986649e13244897bd",
            "4fff6534df60494d99642485e369423a"
          ]
        },
        "outputId": "c7677c42-c918-4520-dba9-24abaaf20ada"
      },
      "source": [
        "# The language model is the foundation on which modern NLP systems are built.\n",
        "# They encapsulate a general understanding of sentence semantics\n",
        "# and are not specific to any one task.\n",
        "\n",
        "# Here we are using Google's BERT model as implemented by HuggingFace. \n",
        "# The model being loaded is a German model that we trained. \n",
        "# You can also change the MODEL_NAME_OR_PATH to point to a BERT model that you\n",
        "# have saved or download one connected to the HuggingFace repository.\n",
        "# See farm.modeling.language_model.PRETRAINED_MODEL_ARCHIVE_MAP for a list of\n",
        "# available models\n",
        "\n",
        "MODEL_NAME_OR_PATH = \"bert-base-cased\"\n",
        "\n",
        "language_model = LanguageModel.load(MODEL_NAME_OR_PATH)"
      ],
      "execution_count": 7,
      "outputs": [
        {
          "output_type": "stream",
          "text": [
            "06/10/2021 16:26:34 - INFO - farm.modeling.language_model -   \n",
            "06/10/2021 16:26:34 - INFO - farm.modeling.language_model -   LOADING MODEL\n",
            "06/10/2021 16:26:34 - INFO - farm.modeling.language_model -   =============\n",
            "06/10/2021 16:26:34 - INFO - farm.modeling.language_model -   Could not find bert-base-cased locally.\n",
            "06/10/2021 16:26:34 - INFO - farm.modeling.language_model -   Looking on Transformers Model Hub (in local cache and online)...\n",
            "06/10/2021 16:26:35 - INFO - filelock -   Lock 140425650214416 acquired on /root/.cache/huggingface/transformers/092cc582560fc3833e556b3f833695c26343cb54b7e88cd02d40821462a74999.1f48cab6c959fc6c360d22bea39d06959e90f5b002e77e836d2da45464875cda.lock\n"
          ],
          "name": "stderr"
        },
        {
          "output_type": "display_data",
          "data": {
            "application/vnd.jupyter.widget-view+json": {
              "model_id": "e24838a603be4170899aae7114d138f5",
              "version_minor": 0,
              "version_major": 2
            },
            "text/plain": [
              "HBox(children=(FloatProgress(value=0.0, description='Downloading', max=435779157.0, style=ProgressStyle(descri…"
            ]
          },
          "metadata": {
            "tags": []
          }
        },
        {
          "output_type": "stream",
          "text": [
            "06/10/2021 16:26:43 - INFO - filelock -   Lock 140425650214416 released on /root/.cache/huggingface/transformers/092cc582560fc3833e556b3f833695c26343cb54b7e88cd02d40821462a74999.1f48cab6c959fc6c360d22bea39d06959e90f5b002e77e836d2da45464875cda.lock\n"
          ],
          "name": "stderr"
        },
        {
          "output_type": "stream",
          "text": [
            "\n"
          ],
          "name": "stdout"
        },
        {
          "output_type": "stream",
          "text": [
            "06/10/2021 16:26:45 - INFO - farm.modeling.language_model -   Loaded bert-base-cased\n"
          ],
          "name": "stderr"
        }
      ]
    },
    {
      "cell_type": "code",
      "metadata": {
        "id": "bKpqm6solWce",
        "colab": {
          "base_uri": "https://localhost:8080/"
        },
        "outputId": "180e364c-39a9-45a9-a3f4-a79e53ee6b90"
      },
      "source": [
        "# A prediction head is a model that processes the output of the language model\n",
        "# for a specific task.\n",
        "# Prediction heads will look different depending on whether you're doing text classification\n",
        "# Named Entity Recognition (NER), question answering or some other task.\n",
        "# They should generate logits over the available prediction classes and contain methods\n",
        "# to convert these logits to losses or predictions \n",
        "\n",
        "# Here we use TextClassificationHead which receives a single fixed length sentence vector\n",
        "# and processes it using a feed forward neural network. layer_dims is a list of dimensions:\n",
        "# [input_dims, hidden_1_dims, hidden_2_dims ..., output_dims]\n",
        "\n",
        "# Here by default we have a single layer network.\n",
        "# It takes in a vector of length 768 (the default size of BERT's output).\n",
        "# It outputs a vector of length 2 (the number of classes in the GermEval18 (coarse) dataset)\n",
        "\n",
        "prediction_head = TextClassificationHead(num_labels=len(LABEL_LIST), class_weights=data_silo.calculate_class_weights(task_name=\"text_classification\"))"
      ],
      "execution_count": 8,
      "outputs": [
        {
          "output_type": "stream",
          "text": [
            "06/10/2021 16:26:50 - INFO - farm.modeling.prediction_head -   Prediction head initialized with size [768, 3]\n",
            "06/10/2021 16:26:50 - INFO - farm.modeling.prediction_head -   Using class weights for task 'text_classification': [3.3371893e-01 5.7700000e+02 5.7700000e+02]\n"
          ],
          "name": "stderr"
        }
      ]
    },
    {
      "cell_type": "code",
      "metadata": {
        "id": "sQL1HGo2lZEo"
      },
      "source": [
        "# The language model and prediction head are coupled together in the Adaptive Model.\n",
        "# This class takes care of model saving and loading and also coordinates\n",
        "# cases where there is more than one prediction head.\n",
        "\n",
        "# EMBEDS_DROPOUT_PROB is the probability that an element of the output vector from the\n",
        "# language model will be set to zero.\n",
        "EMBEDS_DROPOUT_PROB = 0.1\n",
        "\n",
        "model = AdaptiveModel(\n",
        "    language_model=language_model,\n",
        "    prediction_heads=[prediction_head],\n",
        "    embeds_dropout_prob=EMBEDS_DROPOUT_PROB,\n",
        "    lm_output_types=[\"per_sequence\"],\n",
        "    device=device)"
      ],
      "execution_count": 9,
      "outputs": []
    },
    {
      "cell_type": "markdown",
      "metadata": {
        "id": "UE861jLalax1"
      },
      "source": [
        "### Training"
      ]
    },
    {
      "cell_type": "code",
      "metadata": {
        "id": "4db05tC7lcKy",
        "colab": {
          "base_uri": "https://localhost:8080/"
        },
        "outputId": "716cc459-c760-454a-d14a-61dc78ae52c1"
      },
      "source": [
        "# Here we initialize a Bert Adam optimizer that has a linear warmup and warmdown\n",
        "# Here you can set learning rate, the warmup proportion and number of epochs to train for\n",
        "\n",
        "LEARNING_RATE = 2e-5\n",
        "N_EPOCHS = 3\n",
        "\n",
        "model, optimizer, lr_schedule = initialize_optimizer(\n",
        "    model=model,\n",
        "    device=device,\n",
        "    learning_rate=LEARNING_RATE,\n",
        "    n_batches=len(data_silo.loaders[\"train\"]),\n",
        "    n_epochs=N_EPOCHS)"
      ],
      "execution_count": 15,
      "outputs": [
        {
          "output_type": "stream",
          "text": [
            "06/10/2021 16:29:52 - INFO - farm.modeling.optimization -   Loading optimizer `TransformersAdamW`: '{'correct_bias': False, 'weight_decay': 0.01, 'lr': 2e-05}'\n",
            "06/10/2021 16:29:52 - INFO - farm.modeling.optimization -   Using scheduler 'get_linear_schedule_with_warmup'\n",
            "06/10/2021 16:29:52 - INFO - farm.modeling.optimization -   Loading schedule `get_linear_schedule_with_warmup`: '{'num_warmup_steps': 16.2, 'num_training_steps': 162}'\n"
          ],
          "name": "stderr"
        }
      ]
    },
    {
      "cell_type": "code",
      "metadata": {
        "id": "rpkluUz3lfJn"
      },
      "source": [
        "# Training loop handled by this\n",
        "# It will also trigger evaluation during training using the dev data\n",
        "# and after training using the test data.\n",
        "\n",
        "# Set N_GPU to a positive value if CUDA is available\n",
        "N_GPU = 1\n",
        "\n",
        "trainer = Trainer(\n",
        "    model=model,\n",
        "    optimizer=optimizer,\n",
        "    data_silo=data_silo,\n",
        "    epochs=N_EPOCHS,\n",
        "    n_gpu=N_GPU,\n",
        "    lr_schedule=lr_schedule,\n",
        "    device=device, \n",
        ")"
      ],
      "execution_count": 16,
      "outputs": []
    },
    {
      "cell_type": "code",
      "metadata": {
        "colab": {
          "base_uri": "https://localhost:8080/"
        },
        "id": "KWLMesyre1FB",
        "outputId": "7e722485-6555-49dc-9e0d-17aaa3ffdec0"
      },
      "source": [
        "!nvidia-smi"
      ],
      "execution_count": 17,
      "outputs": [
        {
          "output_type": "stream",
          "text": [
            "Thu Jun 10 16:29:56 2021       \n",
            "+-----------------------------------------------------------------------------+\n",
            "| NVIDIA-SMI 465.27       Driver Version: 460.32.03    CUDA Version: 11.2     |\n",
            "|-------------------------------+----------------------+----------------------+\n",
            "| GPU  Name        Persistence-M| Bus-Id        Disp.A | Volatile Uncorr. ECC |\n",
            "| Fan  Temp  Perf  Pwr:Usage/Cap|         Memory-Usage | GPU-Util  Compute M. |\n",
            "|                               |                      |               MIG M. |\n",
            "|===============================+======================+======================|\n",
            "|   0  Tesla P100-PCIE...  Off  | 00000000:00:04.0 Off |                    0 |\n",
            "| N/A   40C    P0    34W / 250W |   6101MiB / 16280MiB |      0%      Default |\n",
            "|                               |                      |                  N/A |\n",
            "+-------------------------------+----------------------+----------------------+\n",
            "                                                                               \n",
            "+-----------------------------------------------------------------------------+\n",
            "| Processes:                                                                  |\n",
            "|  GPU   GI   CI        PID   Type   Process name                  GPU Memory |\n",
            "|        ID   ID                                                   Usage      |\n",
            "|=============================================================================|\n",
            "+-----------------------------------------------------------------------------+\n"
          ],
          "name": "stdout"
        }
      ]
    },
    {
      "cell_type": "code",
      "metadata": {
        "id": "VuSTk5zAlc0A",
        "colab": {
          "base_uri": "https://localhost:8080/"
        },
        "outputId": "718576d1-3abd-4352-bd04-359365a980f2"
      },
      "source": [
        "model = trainer.train()"
      ],
      "execution_count": 18,
      "outputs": [
        {
          "output_type": "stream",
          "text": [
            "06/10/2021 16:29:58 - INFO - farm.train -   \n",
            " \n",
            "\n",
            "          &&& &&  & &&             _____                   _             \n",
            "      && &\\/&\\|& ()|/ @, &&       / ____|                 (_)            \n",
            "      &\\/(/&/&||/& /_/)_&/_&     | |  __ _ __ _____      ___ _ __   __ _ \n",
            "   &() &\\/&|()|/&\\/ '%\" & ()     | | |_ | '__/ _ \\ \\ /\\ / / | '_ \\ / _` |\n",
            "  &_\\_&&_\\ |& |&&/&__%_/_& &&    | |__| | | | (_) \\ V  V /| | | | | (_| |\n",
            "&&   && & &| &| /& & % ()& /&&    \\_____|_|  \\___/ \\_/\\_/ |_|_| |_|\\__, |\n",
            " ()&_---()&\\&\\|&&-&&--%---()~                                       __/ |\n",
            "     &&     \\|||                                                   |___/\n",
            "             |||\n",
            "             |||\n",
            "             |||\n",
            "       , -=-~  .-^- _\n",
            "              `\n",
            "\n",
            "Train epoch 0/2 (Cur. train loss: 0.0000): 100%|██████████| 54/54 [00:21<00:00,  2.56it/s]\n",
            "Train epoch 1/2 (Cur. train loss: 0.0000):  85%|████████▌ | 46/54 [00:17<00:03,  2.57it/s]\n",
            "Evaluating: 100%|██████████| 14/14 [00:01<00:00,  8.49it/s]\n",
            "/usr/local/lib/python3.7/dist-packages/sklearn/metrics/_classification.py:1272: UndefinedMetricWarning: Precision and F-score are ill-defined and being set to 0.0 in labels with no predicted samples. Use `zero_division` parameter to control this behavior.\n",
            "  _warn_prf(average, modifier, msg_start, len(result))\n",
            "/usr/local/lib/python3.7/dist-packages/sklearn/metrics/_classification.py:1272: UndefinedMetricWarning: Recall and F-score are ill-defined and being set to 0.0 in labels with no true samples. Use `zero_division` parameter to control this behavior.\n",
            "  _warn_prf(average, modifier, msg_start, len(result))\n",
            "06/10/2021 16:30:39 - INFO - farm.eval -   \n",
            "\n",
            "\\\\|//       \\\\|//      \\\\|//       \\\\|//     \\\\|//\n",
            "^^^^^^^^^^^^^^^^^^^^^^^^^^^^^^^^^^^^^^^^^^^^^^^^^^^^^^\n",
            "***************************************************\n",
            "***** EVALUATION | DEV SET | AFTER 100 BATCHES *****\n",
            "***************************************************\n",
            "\\\\|//       \\\\|//      \\\\|//       \\\\|//     \\\\|//\n",
            "^^^^^^^^^^^^^^^^^^^^^^^^^^^^^^^^^^^^^^^^^^^^^^^^^^^^^^\n",
            "\n",
            "06/10/2021 16:30:39 - INFO - farm.eval -   \n",
            " _________ text_classification _________\n",
            "06/10/2021 16:30:39 - INFO - farm.eval -   loss: 5.328660693088172e-06\n",
            "06/10/2021 16:30:39 - INFO - farm.eval -   task_name: text_classification\n",
            "06/10/2021 16:30:39 - INFO - farm.eval -   f1_macro: 1.0\n",
            "06/10/2021 16:30:39 - INFO - farm.eval -   report: \n",
            "               precision    recall  f1-score   support\n",
            "\n",
            "    Positive     1.0000    1.0000    1.0000       428\n",
            "    Negative     0.0000    0.0000    0.0000         0\n",
            "     Neutral     0.0000    0.0000    0.0000         0\n",
            "\n",
            "   micro avg     1.0000    1.0000    1.0000       428\n",
            "   macro avg     0.3333    0.3333    0.3333       428\n",
            "weighted avg     1.0000    1.0000    1.0000       428\n",
            "\n",
            "Train epoch 1/2 (Cur. train loss: 0.0000): 100%|██████████| 54/54 [00:22<00:00,  2.38it/s]\n",
            "Train epoch 2/2 (Cur. train loss: 0.0000): 100%|██████████| 54/54 [00:20<00:00,  2.60it/s]\n",
            "Evaluating: 100%|██████████| 17/17 [00:02<00:00,  8.19it/s]\n",
            "06/10/2021 16:31:04 - INFO - farm.eval -   \n",
            "\n",
            "\\\\|//       \\\\|//      \\\\|//       \\\\|//     \\\\|//\n",
            "^^^^^^^^^^^^^^^^^^^^^^^^^^^^^^^^^^^^^^^^^^^^^^^^^^^^^^\n",
            "***************************************************\n",
            "***** EVALUATION | TEST SET | AFTER 162 BATCHES *****\n",
            "***************************************************\n",
            "\\\\|//       \\\\|//      \\\\|//       \\\\|//     \\\\|//\n",
            "^^^^^^^^^^^^^^^^^^^^^^^^^^^^^^^^^^^^^^^^^^^^^^^^^^^^^^\n",
            "\n",
            "06/10/2021 16:31:04 - INFO - farm.eval -   \n",
            " _________ text_classification _________\n",
            "06/10/2021 16:31:04 - INFO - farm.eval -   loss: 4.845165973098052e-06\n",
            "06/10/2021 16:31:04 - INFO - farm.eval -   task_name: text_classification\n",
            "06/10/2021 16:31:04 - INFO - farm.eval -   f1_macro: 1.0\n",
            "06/10/2021 16:31:04 - INFO - farm.eval -   report: \n",
            "               precision    recall  f1-score   support\n",
            "\n",
            "    Positive     1.0000    1.0000    1.0000       540\n",
            "    Negative     0.0000    0.0000    0.0000         0\n",
            "     Neutral     0.0000    0.0000    0.0000         0\n",
            "\n",
            "   micro avg     1.0000    1.0000    1.0000       540\n",
            "   macro avg     0.3333    0.3333    0.3333       540\n",
            "weighted avg     1.0000    1.0000    1.0000       540\n",
            "\n"
          ],
          "name": "stderr"
        }
      ]
    },
    {
      "cell_type": "code",
      "metadata": {
        "id": "0r8b3etug_F4",
        "colab": {
          "base_uri": "https://localhost:8080/"
        },
        "outputId": "42ddbe35-5578-42b5-f525-c7e441bf0873"
      },
      "source": [
        "# Test your model on a sample (Inference)\n",
        "from farm.infer import Inferencer\n",
        "from pprint import PrettyPrinter\n",
        "\n",
        "infer_model = Inferencer(processor=processor, model=model, task_type=\"text_classification\", gpu=True)\n",
        "\n",
        "basic_texts = [\n",
        "    {\"text\": \"Martin is happy\"},\n",
        "    {\"text\": \"Martin is stupid\"},\n",
        "]\n",
        "result = infer_model.inference_from_dicts(dicts=basic_texts)\n",
        "PrettyPrinter().pprint(result)\n"
      ],
      "execution_count": 14,
      "outputs": [
        {
          "output_type": "stream",
          "text": [
            "06/10/2021 16:28:41 - WARNING - farm.utils -   ML Logging is turned off. No parameters, metrics or artifacts will be logged to MLFlow.\n",
            "06/10/2021 16:28:41 - INFO - farm.utils -   Using device: CUDA \n",
            "06/10/2021 16:28:41 - INFO - farm.utils -   Number of GPUs: 1\n",
            "06/10/2021 16:28:41 - INFO - farm.utils -   Distributed Training: False\n",
            "06/10/2021 16:28:41 - INFO - farm.utils -   Automatic Mixed Precision: None\n",
            "06/10/2021 16:28:41 - INFO - farm.infer -   Got ya 2 parallel workers to do inference ...\n",
            "06/10/2021 16:28:41 - INFO - farm.infer -    0    0 \n",
            "06/10/2021 16:28:41 - INFO - farm.infer -   /w\\  /w\\\n",
            "06/10/2021 16:28:41 - INFO - farm.infer -   /'\\  / \\\n",
            "06/10/2021 16:28:41 - INFO - farm.infer -     \n",
            "06/10/2021 16:28:41 - INFO - farm.data_handler.processor -   *** Show 1 random examples ***\n",
            "06/10/2021 16:28:41 - INFO - farm.data_handler.processor -   \n",
            "\n",
            "      .--.        _____                       _      \n",
            "    .'_\\/_'.     / ____|                     | |     \n",
            "    '. /\\ .'    | (___   __ _ _ __ ___  _ __ | | ___ \n",
            "      \"||\"       \\___ \\ / _` | '_ ` _ \\| '_ \\| |/ _ \\ \n",
            "       || /\\     ____) | (_| | | | | | | |_) | |  __/\n",
            "    /\\ ||//\\)   |_____/ \\__,_|_| |_| |_| .__/|_|\\___|\n",
            "   (/\\||/                             |_|           \n",
            "______\\||/___________________________________________                     \n",
            "\n",
            "ID: None\n",
            "Clear Text: \n",
            " \ttext: Martin is stupid\n",
            "Tokenized: \n",
            " \tNone\n",
            "Features: \n",
            " \tinput_ids: [101, 2405, 1110, 4736, 102, 0, 0, 0, 0, 0, 0, 0, 0, 0, 0, 0, 0, 0, 0, 0, 0, 0, 0, 0, 0, 0, 0, 0, 0, 0, 0, 0, 0, 0, 0, 0, 0, 0, 0, 0, 0, 0, 0, 0, 0, 0, 0, 0, 0, 0, 0, 0, 0, 0, 0, 0, 0, 0, 0, 0, 0, 0, 0, 0, 0, 0, 0, 0, 0, 0, 0, 0, 0, 0, 0, 0, 0, 0, 0, 0, 0, 0, 0, 0, 0, 0, 0, 0, 0, 0, 0, 0, 0, 0, 0, 0, 0, 0, 0, 0, 0, 0, 0, 0, 0, 0, 0, 0, 0, 0, 0, 0, 0, 0, 0, 0, 0, 0, 0, 0, 0, 0, 0, 0, 0, 0, 0, 0]\n",
            " \tpadding_mask: [1, 1, 1, 1, 1, 0, 0, 0, 0, 0, 0, 0, 0, 0, 0, 0, 0, 0, 0, 0, 0, 0, 0, 0, 0, 0, 0, 0, 0, 0, 0, 0, 0, 0, 0, 0, 0, 0, 0, 0, 0, 0, 0, 0, 0, 0, 0, 0, 0, 0, 0, 0, 0, 0, 0, 0, 0, 0, 0, 0, 0, 0, 0, 0, 0, 0, 0, 0, 0, 0, 0, 0, 0, 0, 0, 0, 0, 0, 0, 0, 0, 0, 0, 0, 0, 0, 0, 0, 0, 0, 0, 0, 0, 0, 0, 0, 0, 0, 0, 0, 0, 0, 0, 0, 0, 0, 0, 0, 0, 0, 0, 0, 0, 0, 0, 0, 0, 0, 0, 0, 0, 0, 0, 0, 0, 0, 0, 0]\n",
            " \tsegment_ids: [0, 0, 0, 0, 0, 0, 0, 0, 0, 0, 0, 0, 0, 0, 0, 0, 0, 0, 0, 0, 0, 0, 0, 0, 0, 0, 0, 0, 0, 0, 0, 0, 0, 0, 0, 0, 0, 0, 0, 0, 0, 0, 0, 0, 0, 0, 0, 0, 0, 0, 0, 0, 0, 0, 0, 0, 0, 0, 0, 0, 0, 0, 0, 0, 0, 0, 0, 0, 0, 0, 0, 0, 0, 0, 0, 0, 0, 0, 0, 0, 0, 0, 0, 0, 0, 0, 0, 0, 0, 0, 0, 0, 0, 0, 0, 0, 0, 0, 0, 0, 0, 0, 0, 0, 0, 0, 0, 0, 0, 0, 0, 0, 0, 0, 0, 0, 0, 0, 0, 0, 0, 0, 0, 0, 0, 0, 0, 0]\n",
            "_____________________________________________________\n",
            "06/10/2021 16:28:41 - WARNING - farm.data_handler.processor -   Currently no support in Processor for returning problematic ids\n",
            "Inferencing Samples: 100%|██████████| 1/1 [00:00<00:00, 48.35 Batches/s]"
          ],
          "name": "stderr"
        },
        {
          "output_type": "stream",
          "text": [
            "[{'predictions': [{'context': 'Martin is happy',\n",
            "                   'end': None,\n",
            "                   'label': 'Positive',\n",
            "                   'probability': 0.999185,\n",
            "                   'start': None},\n",
            "                  {'context': 'Martin is stupid',\n",
            "                   'end': None,\n",
            "                   'label': 'Positive',\n",
            "                   'probability': 0.99916005,\n",
            "                   'start': None}],\n",
            "  'task': 'text_classification'}]\n"
          ],
          "name": "stdout"
        },
        {
          "output_type": "stream",
          "text": [
            "\n"
          ],
          "name": "stderr"
        }
      ]
    }
  ]
}